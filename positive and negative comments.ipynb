{
 "cells": [
  {
   "cell_type": "markdown",
   "metadata": {
    "toc": true
   },
   "source": [
    "<h1>Содержание<span class=\"tocSkip\"></span></h1>\n",
    "<div class=\"toc\"><ul class=\"toc-item\"><li><span><a href=\"#Подготовка\" data-toc-modified-id=\"Подготовка-1\"><span class=\"toc-item-num\">1&nbsp;&nbsp;</span>Подготовка</a></span><ul class=\"toc-item\"><li><span><a href=\"#Подключение-датафрейма-и-библиотек\" data-toc-modified-id=\"Подключение-датафрейма-и-библиотек-1.1\"><span class=\"toc-item-num\">1.1&nbsp;&nbsp;</span>Подключение датафрейма и библиотек</a></span><ul class=\"toc-item\"><li><span><a href=\"#Установка-библиотек\" data-toc-modified-id=\"Установка-библиотек-1.1.1\"><span class=\"toc-item-num\">1.1.1&nbsp;&nbsp;</span>Установка библиотек</a></span></li><li><span><a href=\"#Подключение-библиотек\" data-toc-modified-id=\"Подключение-библиотек-1.1.2\"><span class=\"toc-item-num\">1.1.2&nbsp;&nbsp;</span>Подключение библиотек</a></span></li><li><span><a href=\"#Подключение-датафрейма\" data-toc-modified-id=\"Подключение-датафрейма-1.1.3\"><span class=\"toc-item-num\">1.1.3&nbsp;&nbsp;</span>Подключение датафрейма</a></span></li></ul></li><li><span><a href=\"#Исследование-данных\" data-toc-modified-id=\"Исследование-данных-1.2\"><span class=\"toc-item-num\">1.2&nbsp;&nbsp;</span>Исследование данных</a></span><ul class=\"toc-item\"><li><span><a href=\"#Пример-датафрейма\" data-toc-modified-id=\"Пример-датафрейма-1.2.1\"><span class=\"toc-item-num\">1.2.1&nbsp;&nbsp;</span>Пример датафрейма</a></span></li><li><span><a href=\"#Информация-о-датафрейме\" data-toc-modified-id=\"Информация-о-датафрейме-1.2.2\"><span class=\"toc-item-num\">1.2.2&nbsp;&nbsp;</span>Информация о датафрейме</a></span></li><li><span><a href=\"#Информация-о-числовых-признаках\" data-toc-modified-id=\"Информация-о-числовых-признаках-1.2.3\"><span class=\"toc-item-num\">1.2.3&nbsp;&nbsp;</span>Информация о числовых признаках</a></span></li><li><span><a href=\"#Информация-о-целевом-признаке\" data-toc-modified-id=\"Информация-о-целевом-признаке-1.2.4\"><span class=\"toc-item-num\">1.2.4&nbsp;&nbsp;</span>Информация о целевом признаке</a></span></li></ul></li><li><span><a href=\"#Предобработка-данных\" data-toc-modified-id=\"Предобработка-данных-1.3\"><span class=\"toc-item-num\">1.3&nbsp;&nbsp;</span>Предобработка данных</a></span><ul class=\"toc-item\"><li><span><a href=\"#Удаление-неинформативных-столбцов\" data-toc-modified-id=\"Удаление-неинформативных-столбцов-1.3.1\"><span class=\"toc-item-num\">1.3.1&nbsp;&nbsp;</span>Удаление неинформативных столбцов</a></span></li><li><span><a href=\"#Изменение-типов--данных-столбцов\" data-toc-modified-id=\"Изменение-типов--данных-столбцов-1.3.2\"><span class=\"toc-item-num\">1.3.2&nbsp;&nbsp;</span>Изменение типов  данных столбцов</a></span></li><li><span><a href=\"#Разбивка-на-обучающую-и-тестовую-выборки\" data-toc-modified-id=\"Разбивка-на-обучающую-и-тестовую-выборки-1.3.3\"><span class=\"toc-item-num\">1.3.3&nbsp;&nbsp;</span>Разбивка на обучающую и тестовую выборки</a></span></li></ul></li><li><span><a href=\"#Обработка-текстов\" data-toc-modified-id=\"Обработка-текстов-1.4\"><span class=\"toc-item-num\">1.4&nbsp;&nbsp;</span>Обработка текстов</a></span><ul class=\"toc-item\"><li><span><a href=\"#Очистка-текста\" data-toc-modified-id=\"Очистка-текста-1.4.1\"><span class=\"toc-item-num\">1.4.1&nbsp;&nbsp;</span>Очистка текста</a></span></li><li><span><a href=\"#Лемматизация\" data-toc-modified-id=\"Лемматизация-1.4.2\"><span class=\"toc-item-num\">1.4.2&nbsp;&nbsp;</span>Лемматизация</a></span></li></ul></li><li><span><a href=\"#Создание-признаков\" data-toc-modified-id=\"Создание-признаков-1.5\"><span class=\"toc-item-num\">1.5&nbsp;&nbsp;</span>Создание признаков</a></span><ul class=\"toc-item\"><li><span><a href=\"#Создание-N-грамм\" data-toc-modified-id=\"Создание-N-грамм-1.5.1\"><span class=\"toc-item-num\">1.5.1&nbsp;&nbsp;</span>Создание N-грамм</a></span></li><li><span><a href=\"#TF-IDF\" data-toc-modified-id=\"TF-IDF-1.5.2\"><span class=\"toc-item-num\">1.5.2&nbsp;&nbsp;</span>TF-IDF</a></span></li></ul></li><li><span><a href=\"#Обьединение-всех-этапов-обработки-данных\" data-toc-modified-id=\"Обьединение-всех-этапов-обработки-данных-1.6\"><span class=\"toc-item-num\">1.6&nbsp;&nbsp;</span>Обьединение всех этапов обработки данных</a></span></li></ul></li><li><span><a href=\"#Обучение\" data-toc-modified-id=\"Обучение-2\"><span class=\"toc-item-num\">2&nbsp;&nbsp;</span>Обучение</a></span></li><li><span><a href=\"#Тестирование\" data-toc-modified-id=\"Тестирование-3\"><span class=\"toc-item-num\">3&nbsp;&nbsp;</span>Тестирование</a></span><ul class=\"toc-item\"><li><span><a href=\"#Проверка-модели-на-адекватность\" data-toc-modified-id=\"Проверка-модели-на-адекватность-3.1\"><span class=\"toc-item-num\">3.1&nbsp;&nbsp;</span>Проверка модели на адекватность</a></span></li></ul></li><li><span><a href=\"#Общий-вывод\" data-toc-modified-id=\"Общий-вывод-4\"><span class=\"toc-item-num\">4&nbsp;&nbsp;</span>Общий вывод</a></span></li><li><span><a href=\"#Чек-лист-проверки\" data-toc-modified-id=\"Чек-лист-проверки-5\"><span class=\"toc-item-num\">5&nbsp;&nbsp;</span>Чек-лист проверки</a></span></li></ul></div>"
   ]
  },
  {
   "cell_type": "markdown",
   "metadata": {},
   "source": [
    "# Проект для «Викишоп»"
   ]
  },
  {
   "cell_type": "markdown",
   "metadata": {},
   "source": [
    "Интернет-магазин «Викишоп» запускает новый сервис. Теперь пользователи могут редактировать и дополнять описания товаров, как в вики-сообществах. То есть клиенты предлагают свои правки и комментируют изменения других. Магазину нужен инструмент, который будет искать токсичные комментарии и отправлять их на модерацию. \n",
    "\n",
    "Обучите модель классифицировать комментарии на позитивные и негативные. В вашем распоряжении набор данных с разметкой о токсичности правок.\n",
    "\n",
    "Постройте модель со значением метрики качества *F1* не меньше 0.75. \n",
    "\n",
    "**Инструкция по выполнению проекта**\n",
    "\n",
    "1. Загрузите и подготовьте данные.\n",
    "2. Обучите разные модели. \n",
    "3. Сделайте выводы.\n",
    "\n",
    "Для выполнения проекта применять *BERT* необязательно, но вы можете попробовать.\n",
    "\n",
    "**Описание данных**\n",
    "\n",
    "Данные находятся в файле `toxic_comments.csv`. Столбец *text* в нём содержит текст комментария, а *toxic* — целевой признак."
   ]
  },
  {
   "cell_type": "markdown",
   "metadata": {},
   "source": [
    "## Подготовка"
   ]
  },
  {
   "cell_type": "markdown",
   "metadata": {},
   "source": [
    "### Подключение датафрейма и библиотек"
   ]
  },
  {
   "cell_type": "markdown",
   "metadata": {},
   "source": [
    "#### Установка библиотек"
   ]
  },
  {
   "cell_type": "code",
   "execution_count": null,
   "metadata": {},
   "outputs": [],
   "source": [
    "!pip install -q spacy\n",
    "!pip install nltk\n",
    "!pip install lightgbm\n",
    "!pip install tqdm"
   ]
  },
  {
   "cell_type": "code",
   "execution_count": 1,
   "metadata": {
    "collapsed": true,
    "jupyter": {
     "outputs_hidden": true
    }
   },
   "outputs": [
    {
     "name": "stdout",
     "output_type": "stream",
     "text": [
      "Collecting en-core-web-sm==3.5.0\n",
      "  Downloading https://github.com/explosion/spacy-models/releases/download/en_core_web_sm-3.5.0/en_core_web_sm-3.5.0-py3-none-any.whl (12.8 MB)\n",
      "\u001b[2K     \u001b[90m━━━━━━━━━━━━━━━━━━━━━━━━━━━━━━━━━━━━━━━\u001b[0m \u001b[32m12.8/12.8 MB\u001b[0m \u001b[31m684.4 kB/s\u001b[0m eta \u001b[36m0:00:00\u001b[0m00:01\u001b[0m00:01\u001b[0m\n",
      "\u001b[?25hRequirement already satisfied: spacy<3.6.0,>=3.5.0 in ./anaconda3/lib/python3.10/site-packages (from en-core-web-sm==3.5.0) (3.5.3)\n",
      "Requirement already satisfied: spacy-legacy<3.1.0,>=3.0.11 in ./anaconda3/lib/python3.10/site-packages (from spacy<3.6.0,>=3.5.0->en-core-web-sm==3.5.0) (3.0.12)\n",
      "Requirement already satisfied: smart-open<7.0.0,>=5.2.1 in ./anaconda3/lib/python3.10/site-packages (from spacy<3.6.0,>=3.5.0->en-core-web-sm==3.5.0) (5.2.1)\n",
      "Requirement already satisfied: murmurhash<1.1.0,>=0.28.0 in ./anaconda3/lib/python3.10/site-packages (from spacy<3.6.0,>=3.5.0->en-core-web-sm==3.5.0) (1.0.9)\n",
      "Requirement already satisfied: jinja2 in ./anaconda3/lib/python3.10/site-packages (from spacy<3.6.0,>=3.5.0->en-core-web-sm==3.5.0) (3.1.2)\n",
      "Requirement already satisfied: pathy>=0.10.0 in ./anaconda3/lib/python3.10/site-packages (from spacy<3.6.0,>=3.5.0->en-core-web-sm==3.5.0) (0.10.1)\n",
      "Requirement already satisfied: catalogue<2.1.0,>=2.0.6 in ./anaconda3/lib/python3.10/site-packages (from spacy<3.6.0,>=3.5.0->en-core-web-sm==3.5.0) (2.0.8)\n",
      "Requirement already satisfied: cymem<2.1.0,>=2.0.2 in ./anaconda3/lib/python3.10/site-packages (from spacy<3.6.0,>=3.5.0->en-core-web-sm==3.5.0) (2.0.7)\n",
      "Requirement already satisfied: spacy-loggers<2.0.0,>=1.0.0 in ./anaconda3/lib/python3.10/site-packages (from spacy<3.6.0,>=3.5.0->en-core-web-sm==3.5.0) (1.0.4)\n",
      "Requirement already satisfied: requests<3.0.0,>=2.13.0 in ./anaconda3/lib/python3.10/site-packages (from spacy<3.6.0,>=3.5.0->en-core-web-sm==3.5.0) (2.28.1)\n",
      "Requirement already satisfied: thinc<8.2.0,>=8.1.8 in ./anaconda3/lib/python3.10/site-packages (from spacy<3.6.0,>=3.5.0->en-core-web-sm==3.5.0) (8.1.10)\n",
      "Requirement already satisfied: langcodes<4.0.0,>=3.2.0 in ./anaconda3/lib/python3.10/site-packages (from spacy<3.6.0,>=3.5.0->en-core-web-sm==3.5.0) (3.3.0)\n",
      "Requirement already satisfied: typer<0.8.0,>=0.3.0 in ./anaconda3/lib/python3.10/site-packages (from spacy<3.6.0,>=3.5.0->en-core-web-sm==3.5.0) (0.7.0)\n",
      "Requirement already satisfied: tqdm<5.0.0,>=4.38.0 in ./anaconda3/lib/python3.10/site-packages (from spacy<3.6.0,>=3.5.0->en-core-web-sm==3.5.0) (4.64.1)\n",
      "Requirement already satisfied: setuptools in ./anaconda3/lib/python3.10/site-packages (from spacy<3.6.0,>=3.5.0->en-core-web-sm==3.5.0) (65.6.3)\n",
      "Requirement already satisfied: srsly<3.0.0,>=2.4.3 in ./anaconda3/lib/python3.10/site-packages (from spacy<3.6.0,>=3.5.0->en-core-web-sm==3.5.0) (2.4.6)\n",
      "Requirement already satisfied: pydantic!=1.8,!=1.8.1,<1.11.0,>=1.7.4 in ./anaconda3/lib/python3.10/site-packages (from spacy<3.6.0,>=3.5.0->en-core-web-sm==3.5.0) (1.10.7)\n",
      "Requirement already satisfied: wasabi<1.2.0,>=0.9.1 in ./anaconda3/lib/python3.10/site-packages (from spacy<3.6.0,>=3.5.0->en-core-web-sm==3.5.0) (1.1.1)\n",
      "Requirement already satisfied: numpy>=1.15.0 in ./anaconda3/lib/python3.10/site-packages (from spacy<3.6.0,>=3.5.0->en-core-web-sm==3.5.0) (1.23.5)\n",
      "Requirement already satisfied: preshed<3.1.0,>=3.0.2 in ./anaconda3/lib/python3.10/site-packages (from spacy<3.6.0,>=3.5.0->en-core-web-sm==3.5.0) (3.0.8)\n",
      "Requirement already satisfied: packaging>=20.0 in ./anaconda3/lib/python3.10/site-packages (from spacy<3.6.0,>=3.5.0->en-core-web-sm==3.5.0) (22.0)\n",
      "Requirement already satisfied: typing-extensions>=4.2.0 in ./anaconda3/lib/python3.10/site-packages (from pydantic!=1.8,!=1.8.1,<1.11.0,>=1.7.4->spacy<3.6.0,>=3.5.0->en-core-web-sm==3.5.0) (4.4.0)\n",
      "Requirement already satisfied: idna<4,>=2.5 in ./anaconda3/lib/python3.10/site-packages (from requests<3.0.0,>=2.13.0->spacy<3.6.0,>=3.5.0->en-core-web-sm==3.5.0) (3.4)\n",
      "Requirement already satisfied: urllib3<1.27,>=1.21.1 in ./anaconda3/lib/python3.10/site-packages (from requests<3.0.0,>=2.13.0->spacy<3.6.0,>=3.5.0->en-core-web-sm==3.5.0) (1.26.14)\n",
      "Requirement already satisfied: charset-normalizer<3,>=2 in ./anaconda3/lib/python3.10/site-packages (from requests<3.0.0,>=2.13.0->spacy<3.6.0,>=3.5.0->en-core-web-sm==3.5.0) (2.0.4)\n",
      "Requirement already satisfied: certifi>=2017.4.17 in ./anaconda3/lib/python3.10/site-packages (from requests<3.0.0,>=2.13.0->spacy<3.6.0,>=3.5.0->en-core-web-sm==3.5.0) (2023.5.7)\n",
      "Requirement already satisfied: blis<0.8.0,>=0.7.8 in ./anaconda3/lib/python3.10/site-packages (from thinc<8.2.0,>=8.1.8->spacy<3.6.0,>=3.5.0->en-core-web-sm==3.5.0) (0.7.9)\n",
      "Requirement already satisfied: confection<1.0.0,>=0.0.1 in ./anaconda3/lib/python3.10/site-packages (from thinc<8.2.0,>=8.1.8->spacy<3.6.0,>=3.5.0->en-core-web-sm==3.5.0) (0.0.4)\n",
      "Requirement already satisfied: click<9.0.0,>=7.1.1 in ./anaconda3/lib/python3.10/site-packages (from typer<0.8.0,>=0.3.0->spacy<3.6.0,>=3.5.0->en-core-web-sm==3.5.0) (8.0.4)\n",
      "Requirement already satisfied: MarkupSafe>=2.0 in ./anaconda3/lib/python3.10/site-packages (from jinja2->spacy<3.6.0,>=3.5.0->en-core-web-sm==3.5.0) (2.1.1)\n",
      "\u001b[38;5;2m✔ Download and installation successful\u001b[0m\n",
      "You can now load the package via spacy.load('en_core_web_sm')\n"
     ]
    }
   ],
   "source": [
    "!spacy download -q en_core_web_sm"
   ]
  },
  {
   "cell_type": "markdown",
   "metadata": {},
   "source": [
    "#### Подключение библиотек"
   ]
  },
  {
   "cell_type": "code",
   "execution_count": 2,
   "metadata": {},
   "outputs": [],
   "source": [
    "from tqdm.auto import tqdm\n",
    "import pandas as pd\n",
    "from sklearn.pipeline import Pipeline, FeatureUnion\n",
    "from sklearn.preprocessing import FunctionTransformer\n",
    "from sklearn.feature_extraction.text import CountVectorizer, TfidfVectorizer\n",
    "from re import sub \n",
    "import numpy as np\n",
    "from sklearn.model_selection import train_test_split\n",
    "from nltk import download\n",
    "from nltk.corpus import stopwords as nltk_stopwords\n",
    "from sklearn.linear_model import LogisticRegression\n",
    "from sklearn.metrics import f1_score\n",
    "from sklearn.model_selection import StratifiedKFold\n",
    "from sklearn.dummy import DummyClassifier\n",
    "from copy import deepcopy\n",
    "from lightgbm import LGBMClassifier\n",
    "import warnings, spacy, sys, os"
   ]
  },
  {
   "cell_type": "markdown",
   "metadata": {},
   "source": [
    "#### Подключение датафрейма"
   ]
  },
  {
   "cell_type": "code",
   "execution_count": 3,
   "metadata": {},
   "outputs": [],
   "source": [
    "try:\n",
    "    df = pd.read_csv('/datasets/toxic_comments.csv')\n",
    "except FileNotFoundError:\n",
    "    df = pd.read_csv('//Users//georgespesivtsev//Documents//toxic_comments.csv')"
   ]
  },
  {
   "cell_type": "markdown",
   "metadata": {},
   "source": [
    "### Исследование данных"
   ]
  },
  {
   "cell_type": "markdown",
   "metadata": {},
   "source": [
    "#### Пример датафрейма"
   ]
  },
  {
   "cell_type": "code",
   "execution_count": 4,
   "metadata": {},
   "outputs": [
    {
     "data": {
      "text/html": [
       "<div>\n",
       "<style scoped>\n",
       "    .dataframe tbody tr th:only-of-type {\n",
       "        vertical-align: middle;\n",
       "    }\n",
       "\n",
       "    .dataframe tbody tr th {\n",
       "        vertical-align: top;\n",
       "    }\n",
       "\n",
       "    .dataframe thead th {\n",
       "        text-align: right;\n",
       "    }\n",
       "</style>\n",
       "<table border=\"1\" class=\"dataframe\">\n",
       "  <thead>\n",
       "    <tr style=\"text-align: right;\">\n",
       "      <th></th>\n",
       "      <th>Unnamed: 0</th>\n",
       "      <th>text</th>\n",
       "      <th>toxic</th>\n",
       "    </tr>\n",
       "  </thead>\n",
       "  <tbody>\n",
       "    <tr>\n",
       "      <th>0</th>\n",
       "      <td>0</td>\n",
       "      <td>Explanation\\nWhy the edits made under my usern...</td>\n",
       "      <td>0</td>\n",
       "    </tr>\n",
       "    <tr>\n",
       "      <th>1</th>\n",
       "      <td>1</td>\n",
       "      <td>D'aww! He matches this background colour I'm s...</td>\n",
       "      <td>0</td>\n",
       "    </tr>\n",
       "    <tr>\n",
       "      <th>2</th>\n",
       "      <td>2</td>\n",
       "      <td>Hey man, I'm really not trying to edit war. It...</td>\n",
       "      <td>0</td>\n",
       "    </tr>\n",
       "    <tr>\n",
       "      <th>3</th>\n",
       "      <td>3</td>\n",
       "      <td>\"\\nMore\\nI can't make any real suggestions on ...</td>\n",
       "      <td>0</td>\n",
       "    </tr>\n",
       "    <tr>\n",
       "      <th>4</th>\n",
       "      <td>4</td>\n",
       "      <td>You, sir, are my hero. Any chance you remember...</td>\n",
       "      <td>0</td>\n",
       "    </tr>\n",
       "  </tbody>\n",
       "</table>\n",
       "</div>"
      ],
      "text/plain": [
       "   Unnamed: 0                                               text  toxic\n",
       "0           0  Explanation\\nWhy the edits made under my usern...      0\n",
       "1           1  D'aww! He matches this background colour I'm s...      0\n",
       "2           2  Hey man, I'm really not trying to edit war. It...      0\n",
       "3           3  \"\\nMore\\nI can't make any real suggestions on ...      0\n",
       "4           4  You, sir, are my hero. Any chance you remember...      0"
      ]
     },
     "execution_count": 4,
     "metadata": {},
     "output_type": "execute_result"
    }
   ],
   "source": [
    "df.head()"
   ]
  },
  {
   "cell_type": "markdown",
   "metadata": {},
   "source": [
    "Столбец '<font color='green'>Unnamed: 0</font>' это столбец повторяющий индексы, его необходимо удалить."
   ]
  },
  {
   "cell_type": "markdown",
   "metadata": {},
   "source": [
    "#### Информация о датафрейме"
   ]
  },
  {
   "cell_type": "code",
   "execution_count": 5,
   "metadata": {},
   "outputs": [
    {
     "name": "stdout",
     "output_type": "stream",
     "text": [
      "<class 'pandas.core.frame.DataFrame'>\n",
      "RangeIndex: 159292 entries, 0 to 159291\n",
      "Data columns (total 3 columns):\n",
      " #   Column      Non-Null Count   Dtype \n",
      "---  ------      --------------   ----- \n",
      " 0   Unnamed: 0  159292 non-null  int64 \n",
      " 1   text        159292 non-null  object\n",
      " 2   toxic       159292 non-null  int64 \n",
      "dtypes: int64(2), object(1)\n",
      "memory usage: 3.6+ MB\n"
     ]
    }
   ],
   "source": [
    "df.info()"
   ]
  },
  {
   "cell_type": "markdown",
   "metadata": {},
   "source": [
    "Пропусков нет."
   ]
  },
  {
   "cell_type": "markdown",
   "metadata": {},
   "source": [
    "#### Информация о числовых признаках"
   ]
  },
  {
   "cell_type": "code",
   "execution_count": 6,
   "metadata": {},
   "outputs": [
    {
     "data": {
      "text/html": [
       "<div>\n",
       "<style scoped>\n",
       "    .dataframe tbody tr th:only-of-type {\n",
       "        vertical-align: middle;\n",
       "    }\n",
       "\n",
       "    .dataframe tbody tr th {\n",
       "        vertical-align: top;\n",
       "    }\n",
       "\n",
       "    .dataframe thead th {\n",
       "        text-align: right;\n",
       "    }\n",
       "</style>\n",
       "<table border=\"1\" class=\"dataframe\">\n",
       "  <thead>\n",
       "    <tr style=\"text-align: right;\">\n",
       "      <th></th>\n",
       "      <th>Unnamed: 0</th>\n",
       "      <th>toxic</th>\n",
       "    </tr>\n",
       "  </thead>\n",
       "  <tbody>\n",
       "    <tr>\n",
       "      <th>count</th>\n",
       "      <td>159292.000000</td>\n",
       "      <td>159292.000000</td>\n",
       "    </tr>\n",
       "    <tr>\n",
       "      <th>mean</th>\n",
       "      <td>79725.697242</td>\n",
       "      <td>0.101612</td>\n",
       "    </tr>\n",
       "    <tr>\n",
       "      <th>std</th>\n",
       "      <td>46028.837471</td>\n",
       "      <td>0.302139</td>\n",
       "    </tr>\n",
       "    <tr>\n",
       "      <th>min</th>\n",
       "      <td>0.000000</td>\n",
       "      <td>0.000000</td>\n",
       "    </tr>\n",
       "    <tr>\n",
       "      <th>25%</th>\n",
       "      <td>39872.750000</td>\n",
       "      <td>0.000000</td>\n",
       "    </tr>\n",
       "    <tr>\n",
       "      <th>50%</th>\n",
       "      <td>79721.500000</td>\n",
       "      <td>0.000000</td>\n",
       "    </tr>\n",
       "    <tr>\n",
       "      <th>75%</th>\n",
       "      <td>119573.250000</td>\n",
       "      <td>0.000000</td>\n",
       "    </tr>\n",
       "    <tr>\n",
       "      <th>max</th>\n",
       "      <td>159450.000000</td>\n",
       "      <td>1.000000</td>\n",
       "    </tr>\n",
       "  </tbody>\n",
       "</table>\n",
       "</div>"
      ],
      "text/plain": [
       "          Unnamed: 0          toxic\n",
       "count  159292.000000  159292.000000\n",
       "mean    79725.697242       0.101612\n",
       "std     46028.837471       0.302139\n",
       "min         0.000000       0.000000\n",
       "25%     39872.750000       0.000000\n",
       "50%     79721.500000       0.000000\n",
       "75%    119573.250000       0.000000\n",
       "max    159450.000000       1.000000"
      ]
     },
     "execution_count": 6,
     "metadata": {},
     "output_type": "execute_result"
    }
   ],
   "source": [
    "df.describe()"
   ]
  },
  {
   "cell_type": "markdown",
   "metadata": {},
   "source": [
    "Аномальных значений в целевом признаке нет, тип данных избыточен, можно заменить тип '<font color='blue'>int64</font>' на '<font color='blue'>int8</font>'."
   ]
  },
  {
   "cell_type": "markdown",
   "metadata": {},
   "source": [
    "#### Информация о целевом признаке"
   ]
  },
  {
   "cell_type": "code",
   "execution_count": 7,
   "metadata": {
    "scrolled": true
   },
   "outputs": [
    {
     "data": {
      "text/plain": [
       "0    143106\n",
       "1     16186\n",
       "Name: toxic, dtype: int64"
      ]
     },
     "execution_count": 7,
     "metadata": {},
     "output_type": "execute_result"
    }
   ],
   "source": [
    "df.toxic.value_counts()"
   ]
  },
  {
   "cell_type": "markdown",
   "metadata": {},
   "source": [
    "В данных присутствует существенный дисбаланс классов."
   ]
  },
  {
   "cell_type": "markdown",
   "metadata": {},
   "source": [
    "### Предобработка данных"
   ]
  },
  {
   "cell_type": "markdown",
   "metadata": {},
   "source": [
    "#### Удаление неинформативных столбцов"
   ]
  },
  {
   "cell_type": "code",
   "execution_count": 8,
   "metadata": {},
   "outputs": [],
   "source": [
    "df = df.drop('Unnamed: 0', axis=1)"
   ]
  },
  {
   "cell_type": "markdown",
   "metadata": {},
   "source": [
    "#### Изменение типов  данных столбцов"
   ]
  },
  {
   "cell_type": "code",
   "execution_count": 9,
   "metadata": {},
   "outputs": [],
   "source": [
    "df.toxic = df.toxic.astype('int8')"
   ]
  },
  {
   "cell_type": "markdown",
   "metadata": {},
   "source": [
    "#### Разбивка на обучающую и тестовую выборки"
   ]
  },
  {
   "cell_type": "code",
   "execution_count": 10,
   "metadata": {},
   "outputs": [],
   "source": [
    "RANDOM_STATE = 41626\n",
    "X_train, X_test, y_train, y_test = train_test_split(df.drop('toxic', axis=1), df.toxic, \\\n",
    "                                                    test_size=0.25, \\\n",
    "                                                    random_state=RANDOM_STATE, \\\n",
    "                                                    stratify=df.toxic)"
   ]
  },
  {
   "cell_type": "markdown",
   "metadata": {},
   "source": [
    "### Обработка текстов"
   ]
  },
  {
   "cell_type": "markdown",
   "metadata": {},
   "source": [
    "#### Очистка текста"
   ]
  },
  {
   "cell_type": "code",
   "execution_count": 11,
   "metadata": {},
   "outputs": [],
   "source": [
    "cleaning = lambda t: ' '.join(sub(r\"[^a-z' ]\", '', t).split())"
   ]
  },
  {
   "cell_type": "code",
   "execution_count": 1,
   "metadata": {},
   "outputs": [
    {
     "ename": "NameError",
     "evalue": "name 'Pipeline' is not defined",
     "output_type": "error",
     "traceback": [
      "\u001b[0;31m---------------------------------------------------------------------------\u001b[0m",
      "\u001b[0;31mNameError\u001b[0m                                 Traceback (most recent call last)",
      "\u001b[0;32m/tmp/ipykernel_31/641150193.py\u001b[0m in \u001b[0;36m<module>\u001b[0;34m\u001b[0m\n\u001b[0;32m----> 1\u001b[0;31m processing = Pipeline([(\n\u001b[0m\u001b[1;32m      2\u001b[0m     \u001b[0;34m'clearing'\u001b[0m\u001b[0;34m,\u001b[0m\u001b[0;34m\u001b[0m\u001b[0;34m\u001b[0m\u001b[0m\n\u001b[1;32m      3\u001b[0m     FunctionTransformer( \n\u001b[1;32m      4\u001b[0m         \u001b[0;32mlambda\u001b[0m \u001b[0mdata\u001b[0m\u001b[0;34m:\u001b[0m \u001b[0mdata\u001b[0m\u001b[0;34m.\u001b[0m\u001b[0mtext\u001b[0m\u001b[0;34m.\u001b[0m\u001b[0mstr\u001b[0m\u001b[0;34m.\u001b[0m\u001b[0mreplace\u001b[0m\u001b[0;34m(\u001b[0m\u001b[0;34m'\\n'\u001b[0m\u001b[0;34m,\u001b[0m \u001b[0;34m' '\u001b[0m\u001b[0;34m)\u001b[0m\u001b[0;34m.\u001b[0m\u001b[0mstr\u001b[0m\u001b[0;34m.\u001b[0m\u001b[0mlower\u001b[0m\u001b[0;34m(\u001b[0m\u001b[0;34m)\u001b[0m\u001b[0;34m.\u001b[0m\u001b[0mapply\u001b[0m\u001b[0;34m(\u001b[0m\u001b[0mcleaning\u001b[0m\u001b[0;34m)\u001b[0m\u001b[0;34m\u001b[0m\u001b[0;34m\u001b[0m\u001b[0m\n\u001b[1;32m      5\u001b[0m     )\n",
      "\u001b[0;31mNameError\u001b[0m: name 'Pipeline' is not defined"
     ]
    }
   ],
   "source": [
    "processing = Pipeline([(\n",
    "    'clearing',\n",
    "    FunctionTransformer( \n",
    "        lambda data: data.text.str.replace('\\n', ' ').str.lower().apply(cleaning)\n",
    "    )\n",
    ")])"
   ]
  },
  {
   "cell_type": "markdown",
   "metadata": {},
   "source": [
    "#### Лемматизация"
   ]
  },
  {
   "cell_type": "code",
   "execution_count": 13,
   "metadata": {},
   "outputs": [],
   "source": [
    "nlp = spacy.load('en_core_web_sm', disable=['parser', 'ner'])\n",
    "lemmatize = lambda t: \" \".join([token.lemma_ for token in nlp(t) \\\n",
    "                                if not token.is_stop and \\\n",
    "                                token.lemma_ not in ['-PRON-', '\"', \"'\", 'utc']])"
   ]
  },
  {
   "cell_type": "code",
   "execution_count": 14,
   "metadata": {},
   "outputs": [],
   "source": [
    "colours = ['#ab97dc', '#c6f9d7', '#ffffd4', '#f7c6cd']\n",
    "tqdm.pandas(desc=\"Лемматизация текстов: \", colour=colours.pop(0))\n",
    "processing.steps.append((\n",
    "    'lemmatize',\n",
    "    FunctionTransformer(\n",
    "        lambda data: data.progress_apply(lemmatize).values\n",
    "    )\n",
    "))"
   ]
  },
  {
   "cell_type": "markdown",
   "metadata": {},
   "source": [
    "### Создание признаков"
   ]
  },
  {
   "cell_type": "markdown",
   "metadata": {},
   "source": [
    "#### Создание N-грамм"
   ]
  },
  {
   "cell_type": "code",
   "execution_count": 15,
   "metadata": {},
   "outputs": [
    {
     "name": "stderr",
     "output_type": "stream",
     "text": [
      "[nltk_data] Downloading package stopwords to\n",
      "[nltk_data]     /Users/georgespesivtsev/nltk_data...\n",
      "[nltk_data]   Package stopwords is already up-to-date!\n"
     ]
    }
   ],
   "source": [
    "download('stopwords')\n",
    "stopwords = list(nltk_stopwords.words('english'))"
   ]
  },
  {
   "cell_type": "code",
   "execution_count": 16,
   "metadata": {},
   "outputs": [],
   "source": [
    "making_features = FeatureUnion([\n",
    " ('making_beg', CountVectorizer(stop_words=stopwords))   \n",
    "], n_jobs=-1)"
   ]
  },
  {
   "cell_type": "markdown",
   "metadata": {},
   "source": [
    "#### TF-IDF"
   ]
  },
  {
   "cell_type": "code",
   "execution_count": 17,
   "metadata": {},
   "outputs": [],
   "source": [
    "making_features.transformer_list.append((\n",
    "    'making_tf_idf',\n",
    "    TfidfVectorizer(stop_words=stopwords)\n",
    "))"
   ]
  },
  {
   "cell_type": "markdown",
   "metadata": {},
   "source": [
    "### Обьединение всех этапов обработки данных"
   ]
  },
  {
   "cell_type": "code",
   "execution_count": 18,
   "metadata": {},
   "outputs": [],
   "source": [
    "preprocessing = Pipeline([\n",
    "    ('processing', processing),\n",
    "    ('making_features', making_features)\n",
    "])"
   ]
  },
  {
   "cell_type": "markdown",
   "metadata": {},
   "source": [
    "## Обучение"
   ]
  },
  {
   "cell_type": "markdown",
   "metadata": {},
   "source": [
    "Поиск лучшей модели и гиперпарамтров:"
   ]
  },
  {
   "cell_type": "code",
   "execution_count": 19,
   "metadata": {},
   "outputs": [],
   "source": [
    "class best_model_search():\n",
    "    def __init__(self, estimators, params_grid, preprocessing, cv=3):\n",
    "        self.estimators = estimators if type(estimators) == list else [estimators]\n",
    "        self.params_grid = params_grid\n",
    "        self.preprocessing = preprocessing\n",
    "        self.cv = cv\n",
    "    \n",
    "        \n",
    "    def fit(self, X, y, research=False):\n",
    "        \n",
    "        if hasattr(self, 'model') and not research:\n",
    "            self.model.fit(X, y)\n",
    "            return self\n",
    "        \n",
    "        X = self.preprocessing.fit_transform(X)\n",
    "        y = y.reset_index(drop=True)\n",
    "        \n",
    "        get_model_name = lambda model: str(type(model)).split('.')[-1][:-2]\n",
    "        \n",
    "        ests_results = [] \n",
    "        \n",
    "        for est in tqdm(self.estimators, position=0, leave=True, desc='Обработанные модели:', colour=colours.pop(0)): \n",
    "            \n",
    "            tqdm.write(get_model_name(est) + ':')\n",
    "            \n",
    "            est_results = [] \n",
    "            \n",
    "            est_params = {}\n",
    "            for param in self.params_grid.keys():\n",
    "                if param in est.get_params().keys():\n",
    "                    est_params[param] = self.params_grid[param]\n",
    "            \n",
    "            params_sets = [[]]\n",
    "            \n",
    "            for idx in range(len(est_params)): \n",
    "                params_sets = [list(x)+[y] for x in params_sets for y in list(est_params.values())[idx]]\n",
    "            params_dicts = [{list(est_params.keys())[idx]: params_set[idx] for idx in range(len(params_set))} \\\n",
    "                            for params_set in params_sets]\n",
    "            for params in tqdm(params_dicts, position=0, leave=True, desc='Обработанные наборы параметров:', colour=colours.pop(0)):\n",
    "                \n",
    "                f1_cv = []\n",
    "                \n",
    "                copy_est = deepcopy(est).set_params(**params)\n",
    "                \n",
    "                for train_index, valid_index in StratifiedKFold(n_splits=self.cv).split(X, y):\n",
    "                    X_train_cv, y_train_cv = X[train_index, :], y.iloc[train_index]\n",
    "                    X_valid, y_valid = X[valid_index, :], y.iloc[valid_index]\n",
    "                    \n",
    "                    copy_est.fit(X_train_cv, y_train_cv)\n",
    "                    f1_cv.append(f1_score(y_valid, copy_est.predict(X_valid)))\n",
    "                \n",
    "                result = {}\n",
    "                result['params'] = params\n",
    "                result['f1_score'] = pd.Series(f1_cv).mean()\n",
    "                est_results.append(result)\n",
    "            \n",
    "            best_model_by_params = sorted(est_results,key=lambda d: d['f1_score'])[-1]\n",
    "            best_model_by_params['model'] = est.set_params(**best_model_by_params['params'])\n",
    "            ests_results.append(best_model_by_params)\n",
    "            \n",
    "        ests_results.sort(reverse=True, key=lambda d: d['f1_score'])\n",
    "        \n",
    "        self.result = {}\n",
    "        self.result['model'] = [get_model_name(x['model']) for x in ests_results]\n",
    "        self.result['best_f1_score'] = [x['f1_score'] for x in ests_results]\n",
    "        for param in self.params_grid.keys():\n",
    "                self.result[param] = [x['params'].get(param, np.nan) for x in ests_results]\n",
    "        self.result = pd.DataFrame(self.result).set_index('model')\n",
    "        display(self.result)\n",
    "        \n",
    "        self.best_est = ests_results[0]['model']\n",
    "        self.best_est.fit(X, y)\n",
    "        self.model = Pipeline([\n",
    "            ('preprocessing', preprocessing),\n",
    "            ('modelling', deepcopy(self.best_est))\n",
    "        ])\n",
    "        \n",
    "        return self\n",
    "    \n",
    "\n",
    "    def predict(self, X):\n",
    "        return self.model.predict(X)"
   ]
  },
  {
   "cell_type": "markdown",
   "metadata": {},
   "source": [
    "Будем выбирать лучшую модель между LogisticRegression и LGBMClassifier (и лучшие гиперпараметры к ним ):"
   ]
  },
  {
   "cell_type": "code",
   "execution_count": null,
   "metadata": {},
   "outputs": [],
   "source": [
    "model_search = best_model_search(\n",
    "    preprocessing=preprocessing,\n",
    "    estimators=[\n",
    "        LogisticRegression(),\n",
    "        LGBMClassifier()\n",
    "    ],\n",
    "    params_grid={\n",
    "        'C': [.1, 1., 50., 1e2],\n",
    "        'max_iter': [100, 500, 1000],\n",
    "        'n_estimators': [100, 500, 1000],\n",
    "        'learning_rate': [.1, .3, .5, .65],\n",
    "        'random_state': [RANDOM_STATE],\n",
    "        'n_jobs': [-1],\n",
    "        'class_weight': ['balanced']\n",
    "        \n",
    "    },\n",
    "    cv=X_train.shape[0] // X_test.shape[0]\n",
    ")"
   ]
  },
  {
   "cell_type": "markdown",
   "metadata": {},
   "source": [
    "Выключим предупреждения о том, что модели не сходятся при обучении. (работает только такой способ, из-за того, что предупреждения не перехватваются при использовании нескольких ядер, а также потому, что библиотеки numpy и sklearn переопределяют пространство предупреждений, даже после внесенных вами в него изменений)"
   ]
  },
  {
   "cell_type": "code",
   "execution_count": 21,
   "metadata": {},
   "outputs": [],
   "source": [
    "if not sys.warnoptions:\n",
    "    warnings.simplefilter('ignore')\n",
    "    os.environ['PYTHONWARNINGS'] = 'ignore'"
   ]
  },
  {
   "cell_type": "code",
   "execution_count": 22,
   "metadata": {
    "scrolled": true
   },
   "outputs": [
    {
     "data": {
      "application/vnd.jupyter.widget-view+json": {
       "model_id": "2041a84bb6204229b30557ab1b013ca6",
       "version_major": 2,
       "version_minor": 0
      },
      "text/plain": [
       "Лемматизация текстов:   0%|          | 0/119469 [00:00<?, ?it/s]"
      ]
     },
     "metadata": {},
     "output_type": "display_data"
    },
    {
     "data": {
      "application/vnd.jupyter.widget-view+json": {
       "model_id": "65de1d04901243f6a084c83a53269aba",
       "version_major": 2,
       "version_minor": 0
      },
      "text/plain": [
       "Обработанные модели::   0%|          | 0/2 [00:00<?, ?it/s]"
      ]
     },
     "metadata": {},
     "output_type": "display_data"
    },
    {
     "name": "stdout",
     "output_type": "stream",
     "text": [
      "LogisticRegression:\n"
     ]
    },
    {
     "data": {
      "application/vnd.jupyter.widget-view+json": {
       "model_id": "9bf0f691cb1c4227b0fa0e1be42af16d",
       "version_major": 2,
       "version_minor": 0
      },
      "text/plain": [
       "Обработанные наборы параметров::   0%|          | 0/12 [00:00<?, ?it/s]"
      ]
     },
     "metadata": {},
     "output_type": "display_data"
    },
    {
     "name": "stdout",
     "output_type": "stream",
     "text": [
      "LGBMClassifier:\n"
     ]
    },
    {
     "data": {
      "application/vnd.jupyter.widget-view+json": {
       "model_id": "86155ecad1324b92b0fa0d0080025f88",
       "version_major": 2,
       "version_minor": 0
      },
      "text/plain": [
       "Обработанные наборы параметров::   0%|          | 0/12 [00:00<?, ?it/s]"
      ]
     },
     "metadata": {},
     "output_type": "display_data"
    },
    {
     "data": {
      "text/html": [
       "<div>\n",
       "<style scoped>\n",
       "    .dataframe tbody tr th:only-of-type {\n",
       "        vertical-align: middle;\n",
       "    }\n",
       "\n",
       "    .dataframe tbody tr th {\n",
       "        vertical-align: top;\n",
       "    }\n",
       "\n",
       "    .dataframe thead th {\n",
       "        text-align: right;\n",
       "    }\n",
       "</style>\n",
       "<table border=\"1\" class=\"dataframe\">\n",
       "  <thead>\n",
       "    <tr style=\"text-align: right;\">\n",
       "      <th></th>\n",
       "      <th>f1_score</th>\n",
       "      <th>C</th>\n",
       "      <th>max_iter</th>\n",
       "      <th>n_estimators</th>\n",
       "      <th>learning_rate</th>\n",
       "      <th>random_state</th>\n",
       "      <th>n_jobs</th>\n",
       "      <th>class_weight</th>\n",
       "    </tr>\n",
       "    <tr>\n",
       "      <th>model</th>\n",
       "      <th></th>\n",
       "      <th></th>\n",
       "      <th></th>\n",
       "      <th></th>\n",
       "      <th></th>\n",
       "      <th></th>\n",
       "      <th></th>\n",
       "      <th></th>\n",
       "    </tr>\n",
       "  </thead>\n",
       "  <tbody>\n",
       "    <tr>\n",
       "      <th>LGBMClassifier</th>\n",
       "      <td>0.759646</td>\n",
       "      <td>NaN</td>\n",
       "      <td>NaN</td>\n",
       "      <td>1000.0</td>\n",
       "      <td>0.1</td>\n",
       "      <td>41626</td>\n",
       "      <td>-1</td>\n",
       "      <td>balanced</td>\n",
       "    </tr>\n",
       "    <tr>\n",
       "      <th>LogisticRegression</th>\n",
       "      <td>0.758559</td>\n",
       "      <td>1.0</td>\n",
       "      <td>1000.0</td>\n",
       "      <td>NaN</td>\n",
       "      <td>NaN</td>\n",
       "      <td>41626</td>\n",
       "      <td>-1</td>\n",
       "      <td>balanced</td>\n",
       "    </tr>\n",
       "  </tbody>\n",
       "</table>\n",
       "</div>"
      ],
      "text/plain": [
       "                    f1_score    C  max_iter  n_estimators  learning_rate  \\\n",
       "model                                                                      \n",
       "LGBMClassifier      0.759646  NaN       NaN        1000.0            0.1   \n",
       "LogisticRegression  0.758559  1.0    1000.0           NaN            NaN   \n",
       "\n",
       "                    random_state  n_jobs class_weight  \n",
       "model                                                  \n",
       "LGBMClassifier             41626      -1     balanced  \n",
       "LogisticRegression         41626      -1     balanced  "
      ]
     },
     "metadata": {},
     "output_type": "display_data"
    },
    {
     "data": {
      "text/plain": [
       "<__main__.best_model_search at 0x7fbe16f2ce50>"
      ]
     },
     "execution_count": 22,
     "metadata": {},
     "output_type": "execute_result"
    }
   ],
   "source": [
    "model_search.fit(X_train, y_train)"
   ]
  },
  {
   "cell_type": "markdown",
   "metadata": {},
   "source": [
    "Лучшей моделью оказалась LightGBM, её и будем использовать для предсказания тестовой выборки."
   ]
  },
  {
   "cell_type": "markdown",
   "metadata": {},
   "source": [
    "## Тестирование"
   ]
  },
  {
   "cell_type": "code",
   "execution_count": 23,
   "metadata": {},
   "outputs": [
    {
     "data": {
      "application/vnd.jupyter.widget-view+json": {
       "model_id": "f06b3599392d47c6a6413459ad999f5b",
       "version_major": 2,
       "version_minor": 0
      },
      "text/plain": [
       "Лемматизация текстов:   0%|          | 0/39823 [00:00<?, ?it/s]"
      ]
     },
     "metadata": {},
     "output_type": "display_data"
    }
   ],
   "source": [
    "y_pred = model_search.predict(X_test)"
   ]
  },
  {
   "cell_type": "code",
   "execution_count": 24,
   "metadata": {},
   "outputs": [
    {
     "data": {
      "text/plain": [
       "0.7726423902894491"
      ]
     },
     "execution_count": 24,
     "metadata": {},
     "output_type": "execute_result"
    }
   ],
   "source": [
    "f1_score(y_test, y_pred)"
   ]
  },
  {
   "cell_type": "markdown",
   "metadata": {},
   "source": [
    "Метрика F1 больше 0.75, модель неплохо справляется со своей задачей."
   ]
  },
  {
   "cell_type": "markdown",
   "metadata": {},
   "source": [
    "### Проверка модели на адекватность"
   ]
  },
  {
   "cell_type": "code",
   "execution_count": 32,
   "metadata": {},
   "outputs": [
    {
     "data": {
      "text/html": [
       "<style>#sk-container-id-2 {color: black;background-color: white;}#sk-container-id-2 pre{padding: 0;}#sk-container-id-2 div.sk-toggleable {background-color: white;}#sk-container-id-2 label.sk-toggleable__label {cursor: pointer;display: block;width: 100%;margin-bottom: 0;padding: 0.3em;box-sizing: border-box;text-align: center;}#sk-container-id-2 label.sk-toggleable__label-arrow:before {content: \"▸\";float: left;margin-right: 0.25em;color: #696969;}#sk-container-id-2 label.sk-toggleable__label-arrow:hover:before {color: black;}#sk-container-id-2 div.sk-estimator:hover label.sk-toggleable__label-arrow:before {color: black;}#sk-container-id-2 div.sk-toggleable__content {max-height: 0;max-width: 0;overflow: hidden;text-align: left;background-color: #f0f8ff;}#sk-container-id-2 div.sk-toggleable__content pre {margin: 0.2em;color: black;border-radius: 0.25em;background-color: #f0f8ff;}#sk-container-id-2 input.sk-toggleable__control:checked~div.sk-toggleable__content {max-height: 200px;max-width: 100%;overflow: auto;}#sk-container-id-2 input.sk-toggleable__control:checked~label.sk-toggleable__label-arrow:before {content: \"▾\";}#sk-container-id-2 div.sk-estimator input.sk-toggleable__control:checked~label.sk-toggleable__label {background-color: #d4ebff;}#sk-container-id-2 div.sk-label input.sk-toggleable__control:checked~label.sk-toggleable__label {background-color: #d4ebff;}#sk-container-id-2 input.sk-hidden--visually {border: 0;clip: rect(1px 1px 1px 1px);clip: rect(1px, 1px, 1px, 1px);height: 1px;margin: -1px;overflow: hidden;padding: 0;position: absolute;width: 1px;}#sk-container-id-2 div.sk-estimator {font-family: monospace;background-color: #f0f8ff;border: 1px dotted black;border-radius: 0.25em;box-sizing: border-box;margin-bottom: 0.5em;}#sk-container-id-2 div.sk-estimator:hover {background-color: #d4ebff;}#sk-container-id-2 div.sk-parallel-item::after {content: \"\";width: 100%;border-bottom: 1px solid gray;flex-grow: 1;}#sk-container-id-2 div.sk-label:hover label.sk-toggleable__label {background-color: #d4ebff;}#sk-container-id-2 div.sk-serial::before {content: \"\";position: absolute;border-left: 1px solid gray;box-sizing: border-box;top: 0;bottom: 0;left: 50%;z-index: 0;}#sk-container-id-2 div.sk-serial {display: flex;flex-direction: column;align-items: center;background-color: white;padding-right: 0.2em;padding-left: 0.2em;position: relative;}#sk-container-id-2 div.sk-item {position: relative;z-index: 1;}#sk-container-id-2 div.sk-parallel {display: flex;align-items: stretch;justify-content: center;background-color: white;position: relative;}#sk-container-id-2 div.sk-item::before, #sk-container-id-2 div.sk-parallel-item::before {content: \"\";position: absolute;border-left: 1px solid gray;box-sizing: border-box;top: 0;bottom: 0;left: 50%;z-index: -1;}#sk-container-id-2 div.sk-parallel-item {display: flex;flex-direction: column;z-index: 1;position: relative;background-color: white;}#sk-container-id-2 div.sk-parallel-item:first-child::after {align-self: flex-end;width: 50%;}#sk-container-id-2 div.sk-parallel-item:last-child::after {align-self: flex-start;width: 50%;}#sk-container-id-2 div.sk-parallel-item:only-child::after {width: 0;}#sk-container-id-2 div.sk-dashed-wrapped {border: 1px dashed gray;margin: 0 0.4em 0.5em 0.4em;box-sizing: border-box;padding-bottom: 0.4em;background-color: white;}#sk-container-id-2 div.sk-label label {font-family: monospace;font-weight: bold;display: inline-block;line-height: 1.2em;}#sk-container-id-2 div.sk-label-container {text-align: center;}#sk-container-id-2 div.sk-container {/* jupyter's `normalize.less` sets `[hidden] { display: none; }` but bootstrap.min.css set `[hidden] { display: none !important; }` so we also need the `!important` here to be able to override the default hidden behavior on the sphinx rendered scikit-learn.org. See: https://github.com/scikit-learn/scikit-learn/issues/21755 */display: inline-block !important;position: relative;}#sk-container-id-2 div.sk-text-repr-fallback {display: none;}</style><div id=\"sk-container-id-2\" class=\"sk-top-container\"><div class=\"sk-text-repr-fallback\"><pre>DummyClassifier(strategy=&#x27;stratified&#x27;)</pre><b>In a Jupyter environment, please rerun this cell to show the HTML representation or trust the notebook. <br />On GitHub, the HTML representation is unable to render, please try loading this page with nbviewer.org.</b></div><div class=\"sk-container\" hidden><div class=\"sk-item\"><div class=\"sk-estimator sk-toggleable\"><input class=\"sk-toggleable__control sk-hidden--visually\" id=\"sk-estimator-id-2\" type=\"checkbox\" checked><label for=\"sk-estimator-id-2\" class=\"sk-toggleable__label sk-toggleable__label-arrow\">DummyClassifier</label><div class=\"sk-toggleable__content\"><pre>DummyClassifier(strategy=&#x27;stratified&#x27;)</pre></div></div></div></div></div>"
      ],
      "text/plain": [
       "DummyClassifier(strategy='stratified')"
      ]
     },
     "execution_count": 32,
     "metadata": {},
     "output_type": "execute_result"
    }
   ],
   "source": [
    "dummy_model = DummyClassifier(strategy='stratified')\n",
    "dummy_model.fit(X_train, y_train)"
   ]
  },
  {
   "cell_type": "code",
   "execution_count": 33,
   "metadata": {},
   "outputs": [
    {
     "data": {
      "text/plain": [
       "0.10136986301369862"
      ]
     },
     "execution_count": 33,
     "metadata": {},
     "output_type": "execute_result"
    }
   ],
   "source": [
    "f1_score(y_test, dummy_model.predict(X_test))"
   ]
  },
  {
   "cell_type": "markdown",
   "metadata": {},
   "source": [
    "Подобранная модель значительно превоосходит константную модель, тем самым являясь адекватной."
   ]
  },
  {
   "cell_type": "markdown",
   "metadata": {},
   "source": [
    "## Общий вывод"
   ]
  },
  {
   "cell_type": "markdown",
   "metadata": {},
   "source": [
    "- Были подключены нужные библиотеки и датафрейм с данными\n",
    "- Данные исследованы:\n",
    "    - Обнаружен столбец повторяющий индекс датафрейма\n",
    "    - Пропуски и аномальные значения отсутствуют\n",
    "    - В целевой метрике обнаружен дисбаланс классов\n",
    "    - Целевой признак использует избыточный тип данных\n",
    "- Данные предобработаны:\n",
    "    - Удален столбцец повторяющий индекс датафрейма\n",
    "    - Тип данных целевого признака изменен на минимально-достаточный\n",
    "- Был создан алгоритм (pipeline) для предобработки данных, включающий в себя:\n",
    "    - Обработку текстов:\n",
    "        - Очистку от неподходящих символов\n",
    "        - Лемматизацию\n",
    "    - Создания признаков для моделлирования:\n",
    "        - Создание униграмм\n",
    "        - TF-IDF\n",
    "- Данные разбиты на обучающую и тестовую выборки в соотношении 3:1\n",
    "- Был создан алгоритм (class) использующий стратифицированную (из-за дисбаланса классов в целевом признаке) кросс-валидацию для поиска лучшей модели и гиперпараметров, из поданых ему на вход\n",
    "- По результатам поиска лучшей моделью оказалась LightGBM с подобранными гиперпараметрами.\n",
    "- На тествой выборке модель показала значение метрики F1 около 0.77\n",
    "- Модель прошла проверку на адекватность, значительно превосходя константную модель"
   ]
  }
 ],
 "metadata": {
  "ExecuteTimeLog": [
   {
    "duration": 447,
    "start_time": "2023-05-15T15:36:51.462Z"
   },
   {
    "duration": 3438,
    "start_time": "2023-05-15T15:37:27.830Z"
   },
   {
    "duration": 34,
    "start_time": "2023-05-15T15:37:40.895Z"
   },
   {
    "duration": 16,
    "start_time": "2023-05-15T15:37:59.801Z"
   },
   {
    "duration": 21,
    "start_time": "2023-05-15T15:38:43.898Z"
   },
   {
    "duration": 13,
    "start_time": "2023-05-15T15:41:11.968Z"
   },
   {
    "duration": 11,
    "start_time": "2023-05-15T15:41:16.355Z"
   },
   {
    "duration": 6,
    "start_time": "2023-05-15T15:54:27.335Z"
   },
   {
    "duration": 2,
    "start_time": "2023-05-15T15:54:43.961Z"
   },
   {
    "duration": 613,
    "start_time": "2023-05-15T15:55:00.809Z"
   },
   {
    "duration": 10,
    "start_time": "2023-05-15T15:55:39.182Z"
   },
   {
    "duration": 7,
    "start_time": "2023-05-15T15:55:43.305Z"
   },
   {
    "duration": 7,
    "start_time": "2023-05-15T15:55:48.407Z"
   },
   {
    "duration": 5,
    "start_time": "2023-05-15T15:55:57.972Z"
   },
   {
    "duration": 3127,
    "start_time": "2023-05-15T16:48:28.406Z"
   },
   {
    "duration": 107,
    "start_time": "2023-05-15T16:48:47.540Z"
   },
   {
    "duration": 49,
    "start_time": "2023-05-15T16:49:02.819Z"
   },
   {
    "duration": 10676,
    "start_time": "2023-05-15T16:49:24.720Z"
   },
   {
    "duration": 73,
    "start_time": "2023-05-15T16:50:28.199Z"
   },
   {
    "duration": 3436,
    "start_time": "2023-05-15T16:50:36.411Z"
   },
   {
    "duration": 600,
    "start_time": "2023-05-15T16:50:40.414Z"
   },
   {
    "duration": 6,
    "start_time": "2023-05-15T16:51:22.156Z"
   },
   {
    "duration": 73901,
    "start_time": "2023-05-15T16:52:23.896Z"
   },
   {
    "duration": 2,
    "start_time": "2023-05-15T16:53:51.771Z"
   },
   {
    "duration": 298,
    "start_time": "2023-05-15T16:54:11.748Z"
   },
   {
    "duration": 2,
    "start_time": "2023-05-15T16:54:51.657Z"
   },
   {
    "duration": 0,
    "start_time": "2023-05-15T16:56:32.882Z"
   },
   {
    "duration": 16390,
    "start_time": "2023-05-15T16:56:40.341Z"
   },
   {
    "duration": 6,
    "start_time": "2023-05-15T16:57:13.776Z"
   },
   {
    "duration": 27664,
    "start_time": "2023-05-15T16:57:30.806Z"
   },
   {
    "duration": 16082,
    "start_time": "2023-05-15T16:58:01.518Z"
   },
   {
    "duration": 3,
    "start_time": "2023-05-15T16:58:25.956Z"
   },
   {
    "duration": 117412,
    "start_time": "2023-05-15T16:58:30.237Z"
   },
   {
    "duration": 8,
    "start_time": "2023-05-15T17:00:50.214Z"
   },
   {
    "duration": 72,
    "start_time": "2023-05-15T17:00:55.010Z"
   },
   {
    "duration": 8,
    "start_time": "2023-05-15T17:00:59.712Z"
   },
   {
    "duration": 9,
    "start_time": "2023-05-15T17:01:02.900Z"
   },
   {
    "duration": 28,
    "start_time": "2023-05-15T17:01:16.571Z"
   },
   {
    "duration": 7,
    "start_time": "2023-05-15T17:01:30.298Z"
   },
   {
    "duration": 86,
    "start_time": "2023-05-15T17:01:32.765Z"
   },
   {
    "duration": 5,
    "start_time": "2023-05-15T17:01:40.712Z"
   },
   {
    "duration": 12,
    "start_time": "2023-05-15T17:02:41.457Z"
   },
   {
    "duration": 1781,
    "start_time": "2023-05-15T17:02:44.855Z"
   },
   {
    "duration": 6,
    "start_time": "2023-05-15T17:02:51.020Z"
   },
   {
    "duration": 4,
    "start_time": "2023-05-15T17:02:57.049Z"
   },
   {
    "duration": 7,
    "start_time": "2023-05-15T17:03:27.653Z"
   },
   {
    "duration": 11,
    "start_time": "2023-05-15T17:03:37.822Z"
   },
   {
    "duration": 10,
    "start_time": "2023-05-15T17:03:56.101Z"
   },
   {
    "duration": 78,
    "start_time": "2023-05-15T17:04:05.656Z"
   },
   {
    "duration": 9,
    "start_time": "2023-05-15T17:04:10.138Z"
   },
   {
    "duration": 45,
    "start_time": "2023-05-15T17:05:11.118Z"
   },
   {
    "duration": 248,
    "start_time": "2023-05-15T17:05:14.321Z"
   },
   {
    "duration": 18,
    "start_time": "2023-05-15T17:08:43.814Z"
   },
   {
    "duration": 91,
    "start_time": "2023-05-15T17:09:44.746Z"
   },
   {
    "duration": 5,
    "start_time": "2023-05-15T17:12:14.467Z"
   },
   {
    "duration": 4,
    "start_time": "2023-05-15T17:15:49.831Z"
   },
   {
    "duration": 8628,
    "start_time": "2023-05-15T17:20:31.028Z"
   },
   {
    "duration": 17,
    "start_time": "2023-05-15T17:23:31.799Z"
   },
   {
    "duration": 56,
    "start_time": "2023-05-15T17:28:31.437Z"
   },
   {
    "duration": 10306,
    "start_time": "2023-05-15T17:29:12.314Z"
   },
   {
    "duration": 3649,
    "start_time": "2023-05-15T17:29:22.622Z"
   },
   {
    "duration": 888,
    "start_time": "2023-05-15T17:29:26.273Z"
   },
   {
    "duration": 17,
    "start_time": "2023-05-15T17:29:38.059Z"
   },
   {
    "duration": 44,
    "start_time": "2023-05-15T17:29:40.775Z"
   },
   {
    "duration": 25,
    "start_time": "2023-05-15T17:34:38.608Z"
   },
   {
    "duration": 29,
    "start_time": "2023-05-15T17:49:26.275Z"
   },
   {
    "duration": 4,
    "start_time": "2023-05-15T17:50:41.452Z"
   },
   {
    "duration": 249,
    "start_time": "2023-05-15T17:53:07.156Z"
   },
   {
    "duration": 361,
    "start_time": "2023-05-15T17:53:15.700Z"
   },
   {
    "duration": 25,
    "start_time": "2023-05-15T17:53:31.906Z"
   },
   {
    "duration": 19,
    "start_time": "2023-05-15T17:53:39.016Z"
   },
   {
    "duration": 22,
    "start_time": "2023-05-15T17:53:44.243Z"
   },
   {
    "duration": 26,
    "start_time": "2023-05-15T17:53:49.778Z"
   },
   {
    "duration": 14,
    "start_time": "2023-05-15T17:56:33.799Z"
   },
   {
    "duration": 11907,
    "start_time": "2023-05-15T17:58:12.572Z"
   },
   {
    "duration": 4756,
    "start_time": "2023-05-15T17:58:24.481Z"
   },
   {
    "duration": 3960,
    "start_time": "2023-05-15T17:58:29.239Z"
   },
   {
    "duration": 20,
    "start_time": "2023-05-15T17:58:33.202Z"
   },
   {
    "duration": 43,
    "start_time": "2023-05-15T17:58:33.224Z"
   },
   {
    "duration": 45,
    "start_time": "2023-05-15T17:58:33.269Z"
   },
   {
    "duration": 76,
    "start_time": "2023-05-15T17:58:56.062Z"
   },
   {
    "duration": 4303,
    "start_time": "2023-05-15T17:59:02.770Z"
   },
   {
    "duration": 3950,
    "start_time": "2023-05-15T17:59:07.079Z"
   },
   {
    "duration": 21,
    "start_time": "2023-05-15T17:59:11.030Z"
   },
   {
    "duration": 52,
    "start_time": "2023-05-15T17:59:11.053Z"
   },
   {
    "duration": 32,
    "start_time": "2023-05-15T17:59:11.107Z"
   },
   {
    "duration": 5,
    "start_time": "2023-05-15T17:59:11.143Z"
   },
   {
    "duration": 5,
    "start_time": "2023-05-15T17:59:53.868Z"
   },
   {
    "duration": 387,
    "start_time": "2023-05-15T18:00:08.331Z"
   },
   {
    "duration": 672,
    "start_time": "2023-05-15T18:13:55.326Z"
   },
   {
    "duration": 711,
    "start_time": "2023-05-15T18:17:32.699Z"
   },
   {
    "duration": 7,
    "start_time": "2023-05-15T18:18:25.401Z"
   },
   {
    "duration": 25,
    "start_time": "2023-05-15T18:18:38.943Z"
   },
   {
    "duration": 17,
    "start_time": "2023-05-15T18:18:45.192Z"
   },
   {
    "duration": 27,
    "start_time": "2023-05-15T18:19:08.099Z"
   },
   {
    "duration": 2193,
    "start_time": "2023-05-15T18:19:12.192Z"
   },
   {
    "duration": 4540,
    "start_time": "2023-05-15T18:19:36.403Z"
   },
   {
    "duration": 401,
    "start_time": "2023-05-15T18:23:17.771Z"
   },
   {
    "duration": 271,
    "start_time": "2023-05-15T18:24:47.163Z"
   },
   {
    "duration": 495,
    "start_time": "2023-05-15T18:24:55.713Z"
   },
   {
    "duration": 168,
    "start_time": "2023-05-15T18:25:52.011Z"
   },
   {
    "duration": 183,
    "start_time": "2023-05-15T18:25:54.375Z"
   },
   {
    "duration": 455,
    "start_time": "2023-05-15T18:26:03.205Z"
   },
   {
    "duration": 3,
    "start_time": "2023-05-15T18:38:27.773Z"
   },
   {
    "duration": 5,
    "start_time": "2023-05-15T18:38:44.749Z"
   },
   {
    "duration": 7,
    "start_time": "2023-05-15T18:39:57.722Z"
   },
   {
    "duration": 5,
    "start_time": "2023-05-15T18:40:19.047Z"
   },
   {
    "duration": 7,
    "start_time": "2023-05-15T18:40:35.873Z"
   },
   {
    "duration": 12,
    "start_time": "2023-05-15T18:40:41.592Z"
   },
   {
    "duration": 7,
    "start_time": "2023-05-15T18:40:44.912Z"
   },
   {
    "duration": 22,
    "start_time": "2023-05-15T18:51:45.132Z"
   },
   {
    "duration": 4,
    "start_time": "2023-05-15T18:51:53.735Z"
   },
   {
    "duration": 34,
    "start_time": "2023-05-15T18:52:12.559Z"
   },
   {
    "duration": 23,
    "start_time": "2023-05-15T18:56:31.629Z"
   },
   {
    "duration": 38,
    "start_time": "2023-05-15T18:56:35.655Z"
   },
   {
    "duration": 6,
    "start_time": "2023-05-15T18:56:42.451Z"
   },
   {
    "duration": 24,
    "start_time": "2023-05-15T18:56:45.723Z"
   },
   {
    "duration": 147,
    "start_time": "2023-05-15T19:01:39.900Z"
   },
   {
    "duration": 72,
    "start_time": "2023-05-15T19:01:47.237Z"
   },
   {
    "duration": 47,
    "start_time": "2023-05-15T19:02:12.416Z"
   },
   {
    "duration": 69,
    "start_time": "2023-05-15T19:02:23.467Z"
   },
   {
    "duration": 54,
    "start_time": "2023-05-15T19:02:34.303Z"
   },
   {
    "duration": 4,
    "start_time": "2023-05-15T19:14:43.984Z"
   },
   {
    "duration": 313,
    "start_time": "2023-05-15T19:15:07.843Z"
   },
   {
    "duration": 1914,
    "start_time": "2023-05-15T19:35:00.195Z"
   },
   {
    "duration": 3,
    "start_time": "2023-05-15T19:46:41.343Z"
   },
   {
    "duration": 4,
    "start_time": "2023-05-15T19:49:20.485Z"
   },
   {
    "duration": 3558,
    "start_time": "2023-05-15T19:49:48.925Z"
   },
   {
    "duration": 2,
    "start_time": "2023-05-15T19:50:06.858Z"
   },
   {
    "duration": 3,
    "start_time": "2023-05-15T19:50:07.303Z"
   },
   {
    "duration": 1561,
    "start_time": "2023-05-15T19:50:07.713Z"
   },
   {
    "duration": 1625,
    "start_time": "2023-05-15T19:50:29.950Z"
   },
   {
    "duration": 7,
    "start_time": "2023-05-15T19:50:44.986Z"
   },
   {
    "duration": 4,
    "start_time": "2023-05-15T19:50:47.402Z"
   },
   {
    "duration": 3,
    "start_time": "2023-05-15T19:51:43.797Z"
   },
   {
    "duration": 9,
    "start_time": "2023-05-15T19:52:33.927Z"
   },
   {
    "duration": 10,
    "start_time": "2023-05-15T19:52:44.769Z"
   },
   {
    "duration": 485,
    "start_time": "2023-05-15T19:52:46.632Z"
   },
   {
    "duration": 11,
    "start_time": "2023-05-15T19:52:48.216Z"
   },
   {
    "duration": 3,
    "start_time": "2023-05-15T19:54:18.794Z"
   },
   {
    "duration": 5,
    "start_time": "2023-05-15T19:54:19.884Z"
   },
   {
    "duration": 2157,
    "start_time": "2023-05-15T19:54:22.009Z"
   },
   {
    "duration": 6,
    "start_time": "2023-05-15T19:54:29.069Z"
   },
   {
    "duration": 4,
    "start_time": "2023-05-15T19:54:31.009Z"
   },
   {
    "duration": 4,
    "start_time": "2023-05-15T19:55:20.129Z"
   },
   {
    "duration": 13,
    "start_time": "2023-05-15T19:55:46.682Z"
   },
   {
    "duration": 6,
    "start_time": "2023-05-15T19:56:05.520Z"
   },
   {
    "duration": 15,
    "start_time": "2023-05-15T19:56:07.601Z"
   },
   {
    "duration": 109650,
    "start_time": "2023-05-15T19:58:00.153Z"
   },
   {
    "duration": 22988,
    "start_time": "2023-05-15T19:59:58.336Z"
   },
   {
    "duration": 1067169,
    "start_time": "2023-05-15T20:00:23.757Z"
   },
   {
    "duration": 4,
    "start_time": "2023-05-15T20:30:14.499Z"
   },
   {
    "duration": 8,
    "start_time": "2023-05-15T20:47:17.126Z"
   },
   {
    "duration": 7,
    "start_time": "2023-05-15T20:48:17.943Z"
   },
   {
    "duration": 9,
    "start_time": "2023-05-15T20:49:54.411Z"
   },
   {
    "duration": 3957,
    "start_time": "2023-05-15T20:54:14.098Z"
   },
   {
    "duration": 836,
    "start_time": "2023-05-15T20:54:18.883Z"
   },
   {
    "duration": 15,
    "start_time": "2023-05-15T20:54:20.230Z"
   },
   {
    "duration": 35,
    "start_time": "2023-05-15T20:54:21.392Z"
   },
   {
    "duration": 25,
    "start_time": "2023-05-15T20:54:22.676Z"
   },
   {
    "duration": 11,
    "start_time": "2023-05-15T20:54:25.458Z"
   },
   {
    "duration": 11,
    "start_time": "2023-05-15T20:54:30.756Z"
   },
   {
    "duration": 9,
    "start_time": "2023-05-15T20:54:31.574Z"
   },
   {
    "duration": 3,
    "start_time": "2023-05-15T20:54:33.044Z"
   },
   {
    "duration": 4,
    "start_time": "2023-05-15T20:54:34.160Z"
   },
   {
    "duration": 495,
    "start_time": "2023-05-15T20:54:35.900Z"
   },
   {
    "duration": 4,
    "start_time": "2023-05-15T20:54:37.616Z"
   },
   {
    "duration": 8,
    "start_time": "2023-05-15T20:54:42.626Z"
   },
   {
    "duration": 342,
    "start_time": "2023-05-15T20:55:21.491Z"
   },
   {
    "duration": 10,
    "start_time": "2023-05-15T20:55:30.295Z"
   },
   {
    "duration": 9,
    "start_time": "2023-05-15T20:58:34.751Z"
   },
   {
    "duration": 3,
    "start_time": "2023-05-15T20:58:53.564Z"
   },
   {
    "duration": 4,
    "start_time": "2023-05-15T20:59:18.832Z"
   },
   {
    "duration": 7,
    "start_time": "2023-05-15T20:59:36.297Z"
   },
   {
    "duration": 3,
    "start_time": "2023-05-15T20:59:36.660Z"
   },
   {
    "duration": 19,
    "start_time": "2023-05-15T21:00:02.695Z"
   },
   {
    "duration": 4,
    "start_time": "2023-05-15T21:00:06.652Z"
   },
   {
    "duration": 7,
    "start_time": "2023-05-15T21:00:31.354Z"
   },
   {
    "duration": 3,
    "start_time": "2023-05-15T21:00:31.755Z"
   },
   {
    "duration": 5,
    "start_time": "2023-05-15T21:00:45.218Z"
   },
   {
    "duration": 3841,
    "start_time": "2023-05-15T21:01:51.432Z"
   },
   {
    "duration": 804,
    "start_time": "2023-05-15T21:01:55.284Z"
   },
   {
    "duration": 18,
    "start_time": "2023-05-15T21:02:00.901Z"
   },
   {
    "duration": 41,
    "start_time": "2023-05-15T21:02:01.757Z"
   },
   {
    "duration": 32,
    "start_time": "2023-05-15T21:02:04.561Z"
   },
   {
    "duration": 20,
    "start_time": "2023-05-15T21:02:05.277Z"
   },
   {
    "duration": 5,
    "start_time": "2023-05-15T21:02:05.762Z"
   },
   {
    "duration": 3,
    "start_time": "2023-05-15T21:02:06.348Z"
   },
   {
    "duration": 3,
    "start_time": "2023-05-15T21:02:06.894Z"
   },
   {
    "duration": 620,
    "start_time": "2023-05-15T21:02:07.425Z"
   },
   {
    "duration": 5,
    "start_time": "2023-05-15T21:02:09.392Z"
   },
   {
    "duration": 10929,
    "start_time": "2023-05-15T21:02:23.323Z"
   },
   {
    "duration": 50,
    "start_time": "2023-05-15T21:02:38.615Z"
   },
   {
    "duration": 5,
    "start_time": "2023-05-15T21:02:46.888Z"
   },
   {
    "duration": 5,
    "start_time": "2023-05-15T21:03:13.287Z"
   },
   {
    "duration": 4,
    "start_time": "2023-05-15T21:04:50.062Z"
   },
   {
    "duration": 4,
    "start_time": "2023-05-15T21:04:51.845Z"
   },
   {
    "duration": 3,
    "start_time": "2023-05-15T21:06:45.910Z"
   },
   {
    "duration": 4,
    "start_time": "2023-05-15T21:06:46.114Z"
   },
   {
    "duration": 594,
    "start_time": "2023-05-15T21:06:46.598Z"
   },
   {
    "duration": 5,
    "start_time": "2023-05-15T21:06:47.194Z"
   },
   {
    "duration": 70,
    "start_time": "2023-05-15T21:06:49.136Z"
   },
   {
    "duration": 3,
    "start_time": "2023-05-15T21:06:52.826Z"
   },
   {
    "duration": 4,
    "start_time": "2023-05-15T21:06:53.606Z"
   },
   {
    "duration": 5,
    "start_time": "2023-05-15T21:07:09.540Z"
   },
   {
    "duration": 4,
    "start_time": "2023-05-15T21:07:15.725Z"
   },
   {
    "duration": 4,
    "start_time": "2023-05-15T21:07:29.707Z"
   },
   {
    "duration": 4,
    "start_time": "2023-05-15T21:07:35.462Z"
   },
   {
    "duration": 5,
    "start_time": "2023-05-15T21:08:08.954Z"
   },
   {
    "duration": 4,
    "start_time": "2023-05-15T21:08:50.101Z"
   },
   {
    "duration": 20,
    "start_time": "2023-05-15T21:08:57.802Z"
   },
   {
    "duration": 131,
    "start_time": "2023-05-15T21:09:02.415Z"
   },
   {
    "duration": 20,
    "start_time": "2023-05-15T21:09:03.149Z"
   },
   {
    "duration": 112,
    "start_time": "2023-05-15T21:09:09.021Z"
   },
   {
    "duration": 4,
    "start_time": "2023-05-15T21:09:09.587Z"
   },
   {
    "duration": 4,
    "start_time": "2023-05-15T21:09:16.996Z"
   },
   {
    "duration": 4,
    "start_time": "2023-05-15T21:09:43.515Z"
   },
   {
    "duration": 4,
    "start_time": "2023-05-15T21:09:48.926Z"
   },
   {
    "duration": 5,
    "start_time": "2023-05-15T21:10:19.216Z"
   },
   {
    "duration": 4,
    "start_time": "2023-05-15T21:10:19.549Z"
   },
   {
    "duration": 4,
    "start_time": "2023-05-15T21:10:45.165Z"
   },
   {
    "duration": 4,
    "start_time": "2023-05-15T21:10:46.367Z"
   },
   {
    "duration": 4,
    "start_time": "2023-05-15T21:11:40.981Z"
   },
   {
    "duration": 3,
    "start_time": "2023-05-15T21:11:43.737Z"
   },
   {
    "duration": 4,
    "start_time": "2023-05-15T21:11:46.587Z"
   },
   {
    "duration": 8,
    "start_time": "2023-05-15T21:12:27.404Z"
   },
   {
    "duration": 17,
    "start_time": "2023-05-15T21:12:33.566Z"
   },
   {
    "duration": 4,
    "start_time": "2023-05-15T21:12:45.106Z"
   },
   {
    "duration": 8,
    "start_time": "2023-05-15T21:12:54.380Z"
   },
   {
    "duration": 3,
    "start_time": "2023-05-15T21:12:55.023Z"
   },
   {
    "duration": 8,
    "start_time": "2023-05-15T21:13:02.180Z"
   },
   {
    "duration": 4,
    "start_time": "2023-05-15T21:13:02.578Z"
   },
   {
    "duration": 49,
    "start_time": "2023-05-15T21:13:22.485Z"
   },
   {
    "duration": 4,
    "start_time": "2023-05-15T21:13:22.744Z"
   },
   {
    "duration": 7,
    "start_time": "2023-05-15T21:13:26.573Z"
   },
   {
    "duration": 3,
    "start_time": "2023-05-15T21:13:26.787Z"
   },
   {
    "duration": 9,
    "start_time": "2023-05-15T21:13:34.653Z"
   },
   {
    "duration": 3,
    "start_time": "2023-05-15T21:13:34.941Z"
   },
   {
    "duration": 9,
    "start_time": "2023-05-15T21:13:38.131Z"
   },
   {
    "duration": 4,
    "start_time": "2023-05-15T21:13:38.373Z"
   },
   {
    "duration": 3,
    "start_time": "2023-05-15T21:14:13.969Z"
   },
   {
    "duration": 4,
    "start_time": "2023-05-15T21:14:14.304Z"
   },
   {
    "duration": 550,
    "start_time": "2023-05-15T21:14:15.644Z"
   },
   {
    "duration": 4,
    "start_time": "2023-05-15T21:14:16.196Z"
   },
   {
    "duration": 196,
    "start_time": "2023-05-15T21:14:19.152Z"
   },
   {
    "duration": 5,
    "start_time": "2023-05-15T21:14:25.974Z"
   },
   {
    "duration": 3,
    "start_time": "2023-05-15T21:16:03.569Z"
   },
   {
    "duration": 8,
    "start_time": "2023-05-15T21:16:05.550Z"
   },
   {
    "duration": 4,
    "start_time": "2023-05-15T21:16:05.661Z"
   },
   {
    "duration": 8,
    "start_time": "2023-05-15T21:16:09.033Z"
   },
   {
    "duration": 4,
    "start_time": "2023-05-15T21:16:09.350Z"
   },
   {
    "duration": 8,
    "start_time": "2023-05-15T21:16:20.757Z"
   },
   {
    "duration": 4,
    "start_time": "2023-05-15T21:16:20.998Z"
   },
   {
    "duration": 6,
    "start_time": "2023-05-15T21:16:24.002Z"
   },
   {
    "duration": 3,
    "start_time": "2023-05-15T21:16:24.400Z"
   },
   {
    "duration": 8,
    "start_time": "2023-05-15T21:16:34.016Z"
   },
   {
    "duration": 4,
    "start_time": "2023-05-15T21:16:34.257Z"
   },
   {
    "duration": 66,
    "start_time": "2023-05-15T21:19:09.580Z"
   },
   {
    "duration": 4,
    "start_time": "2023-05-15T21:19:09.748Z"
   },
   {
    "duration": 8,
    "start_time": "2023-05-15T21:19:12.220Z"
   },
   {
    "duration": 4,
    "start_time": "2023-05-15T21:19:12.526Z"
   },
   {
    "duration": 3,
    "start_time": "2023-05-15T21:20:26.106Z"
   },
   {
    "duration": 3,
    "start_time": "2023-05-15T21:20:26.495Z"
   },
   {
    "duration": 497,
    "start_time": "2023-05-15T21:20:27.193Z"
   },
   {
    "duration": 52,
    "start_time": "2023-05-15T21:20:27.693Z"
   },
   {
    "duration": 5,
    "start_time": "2023-05-15T21:20:32.910Z"
   },
   {
    "duration": 171,
    "start_time": "2023-05-15T21:20:34.184Z"
   },
   {
    "duration": 4,
    "start_time": "2023-05-15T21:20:48.696Z"
   },
   {
    "duration": 4,
    "start_time": "2023-05-15T21:22:14.939Z"
   },
   {
    "duration": 5,
    "start_time": "2023-05-15T21:22:18.367Z"
   },
   {
    "duration": 4,
    "start_time": "2023-05-15T21:29:18.251Z"
   },
   {
    "duration": 4,
    "start_time": "2023-05-15T21:29:22.031Z"
   },
   {
    "duration": 4,
    "start_time": "2023-05-15T21:29:33.402Z"
   },
   {
    "duration": 4,
    "start_time": "2023-05-15T21:29:35.771Z"
   },
   {
    "duration": 479,
    "start_time": "2023-05-15T21:29:45.953Z"
   },
   {
    "duration": 3,
    "start_time": "2023-05-15T21:29:49.725Z"
   },
   {
    "duration": 3,
    "start_time": "2023-05-15T21:29:52.492Z"
   },
   {
    "duration": 4,
    "start_time": "2023-05-15T21:29:52.733Z"
   },
   {
    "duration": 438,
    "start_time": "2023-05-15T21:29:53.317Z"
   },
   {
    "duration": 5,
    "start_time": "2023-05-15T21:29:53.757Z"
   },
   {
    "duration": 187,
    "start_time": "2023-05-15T21:29:55.672Z"
   },
   {
    "duration": 4,
    "start_time": "2023-05-15T21:29:56.879Z"
   },
   {
    "duration": 5,
    "start_time": "2023-05-15T21:29:59.463Z"
   },
   {
    "duration": 4,
    "start_time": "2023-05-15T21:31:19.309Z"
   },
   {
    "duration": 5,
    "start_time": "2023-05-15T21:31:22.728Z"
   },
   {
    "duration": 22,
    "start_time": "2023-05-15T21:35:17.142Z"
   },
   {
    "duration": 5,
    "start_time": "2023-05-15T21:35:24.012Z"
   },
   {
    "duration": 4,
    "start_time": "2023-05-15T21:35:29.769Z"
   },
   {
    "duration": 7,
    "start_time": "2023-05-15T21:41:18.861Z"
   },
   {
    "duration": 27,
    "start_time": "2023-05-15T21:42:41.903Z"
   },
   {
    "duration": 19,
    "start_time": "2023-05-15T21:42:48.116Z"
   },
   {
    "duration": 3673,
    "start_time": "2023-05-15T21:45:26.896Z"
   },
   {
    "duration": 3129,
    "start_time": "2023-05-15T21:45:31.801Z"
   },
   {
    "duration": 20,
    "start_time": "2023-05-15T21:45:39.766Z"
   },
   {
    "duration": 1265,
    "start_time": "2023-05-15T21:45:41.405Z"
   },
   {
    "duration": 3709,
    "start_time": "2023-05-15T21:46:43.912Z"
   },
   {
    "duration": 3130,
    "start_time": "2023-05-15T21:46:47.623Z"
   },
   {
    "duration": 18,
    "start_time": "2023-05-15T21:46:58.076Z"
   },
   {
    "duration": 1075,
    "start_time": "2023-05-15T21:46:59.772Z"
   },
   {
    "duration": 7,
    "start_time": "2023-05-15T21:47:07.539Z"
   },
   {
    "duration": 3721,
    "start_time": "2023-05-15T21:51:54.063Z"
   },
   {
    "duration": 3094,
    "start_time": "2023-05-15T21:51:57.787Z"
   },
   {
    "duration": 14,
    "start_time": "2023-05-15T21:52:02.182Z"
   },
   {
    "duration": 33,
    "start_time": "2023-05-15T21:52:02.788Z"
   },
   {
    "duration": 20,
    "start_time": "2023-05-15T21:52:03.383Z"
   },
   {
    "duration": 12,
    "start_time": "2023-05-15T21:52:04.611Z"
   },
   {
    "duration": 3,
    "start_time": "2023-05-15T21:52:05.419Z"
   },
   {
    "duration": 328,
    "start_time": "2023-05-15T21:52:05.645Z"
   },
   {
    "duration": 3,
    "start_time": "2023-05-15T21:52:15.271Z"
   },
   {
    "duration": 3,
    "start_time": "2023-05-15T21:52:21.053Z"
   },
   {
    "duration": 474,
    "start_time": "2023-05-15T21:52:21.629Z"
   },
   {
    "duration": 4,
    "start_time": "2023-05-15T21:52:22.105Z"
   },
   {
    "duration": 70,
    "start_time": "2023-05-15T21:52:44.973Z"
   },
   {
    "duration": 5,
    "start_time": "2023-05-15T21:52:49.309Z"
   },
   {
    "duration": 4,
    "start_time": "2023-05-15T21:55:54.192Z"
   },
   {
    "duration": 5,
    "start_time": "2023-05-15T21:56:04.601Z"
   },
   {
    "duration": 3,
    "start_time": "2023-05-15T21:58:37.846Z"
   },
   {
    "duration": 5,
    "start_time": "2023-05-15T21:59:40.648Z"
   },
   {
    "duration": 3,
    "start_time": "2023-05-15T22:00:54.313Z"
   },
   {
    "duration": 19,
    "start_time": "2023-05-15T22:01:15.357Z"
   },
   {
    "duration": 3,
    "start_time": "2023-05-15T22:01:55.841Z"
   },
   {
    "duration": 3,
    "start_time": "2023-05-15T22:02:18.811Z"
   },
   {
    "duration": 24,
    "start_time": "2023-05-15T22:02:20.137Z"
   },
   {
    "duration": 99,
    "start_time": "2023-05-15T22:02:20.482Z"
   },
   {
    "duration": 3,
    "start_time": "2023-05-15T22:02:34.407Z"
   },
   {
    "duration": 21,
    "start_time": "2023-05-15T22:02:35.270Z"
   },
   {
    "duration": 27,
    "start_time": "2023-05-15T22:02:35.659Z"
   },
   {
    "duration": 18,
    "start_time": "2023-05-15T22:02:39.966Z"
   },
   {
    "duration": 4,
    "start_time": "2023-05-15T22:02:44.376Z"
   },
   {
    "duration": 4,
    "start_time": "2023-05-15T22:02:51.489Z"
   },
   {
    "duration": 3,
    "start_time": "2023-05-15T22:03:02.976Z"
   },
   {
    "duration": 3,
    "start_time": "2023-05-15T22:03:47.914Z"
   },
   {
    "duration": 31,
    "start_time": "2023-05-15T22:03:48.295Z"
   },
   {
    "duration": 25,
    "start_time": "2023-05-15T22:03:48.555Z"
   },
   {
    "duration": 5,
    "start_time": "2023-05-15T22:04:46.740Z"
   },
   {
    "duration": 24,
    "start_time": "2023-05-15T22:04:47.056Z"
   },
   {
    "duration": 47,
    "start_time": "2023-05-15T22:05:00.058Z"
   },
   {
    "duration": 3719,
    "start_time": "2023-05-15T22:05:03.684Z"
   },
   {
    "duration": 3147,
    "start_time": "2023-05-15T22:05:07.404Z"
   },
   {
    "duration": 14,
    "start_time": "2023-05-15T22:05:26.041Z"
   },
   {
    "duration": 5,
    "start_time": "2023-05-15T22:05:26.310Z"
   },
   {
    "duration": 2,
    "start_time": "2023-05-15T22:05:26.944Z"
   },
   {
    "duration": 3,
    "start_time": "2023-05-15T22:05:27.602Z"
   },
   {
    "duration": 470,
    "start_time": "2023-05-15T22:05:28.086Z"
   },
   {
    "duration": 4,
    "start_time": "2023-05-15T22:05:28.558Z"
   },
   {
    "duration": 71,
    "start_time": "2023-05-15T22:05:30.972Z"
   },
   {
    "duration": 3,
    "start_time": "2023-05-15T22:05:35.102Z"
   },
   {
    "duration": 20,
    "start_time": "2023-05-15T22:05:36.142Z"
   },
   {
    "duration": 3619,
    "start_time": "2023-05-15T22:05:56.427Z"
   },
   {
    "duration": 3186,
    "start_time": "2023-05-15T22:06:00.048Z"
   },
   {
    "duration": 18,
    "start_time": "2023-05-15T22:06:13.510Z"
   },
   {
    "duration": 4,
    "start_time": "2023-05-15T22:06:13.788Z"
   },
   {
    "duration": 3,
    "start_time": "2023-05-15T22:06:14.207Z"
   },
   {
    "duration": 3,
    "start_time": "2023-05-15T22:06:14.403Z"
   },
   {
    "duration": 474,
    "start_time": "2023-05-15T22:06:14.885Z"
   },
   {
    "duration": 4,
    "start_time": "2023-05-15T22:06:15.361Z"
   },
   {
    "duration": 75,
    "start_time": "2023-05-15T22:06:15.955Z"
   },
   {
    "duration": 3,
    "start_time": "2023-05-15T22:06:18.945Z"
   },
   {
    "duration": 21,
    "start_time": "2023-05-15T22:06:19.353Z"
   },
   {
    "duration": 3676,
    "start_time": "2023-05-15T22:06:33.440Z"
   },
   {
    "duration": 3238,
    "start_time": "2023-05-15T22:06:37.118Z"
   },
   {
    "duration": 16,
    "start_time": "2023-05-15T22:06:48.908Z"
   },
   {
    "duration": 35,
    "start_time": "2023-05-15T22:06:50.796Z"
   },
   {
    "duration": 22,
    "start_time": "2023-05-15T22:06:53.902Z"
   },
   {
    "duration": 12,
    "start_time": "2023-05-15T22:06:54.571Z"
   },
   {
    "duration": 3,
    "start_time": "2023-05-15T22:06:55.102Z"
   },
   {
    "duration": 3,
    "start_time": "2023-05-15T22:06:56.134Z"
   },
   {
    "duration": 4,
    "start_time": "2023-05-15T22:06:57.202Z"
   },
   {
    "duration": 494,
    "start_time": "2023-05-15T22:06:59.094Z"
   },
   {
    "duration": 5,
    "start_time": "2023-05-15T22:06:59.590Z"
   },
   {
    "duration": 96,
    "start_time": "2023-05-15T22:06:59.596Z"
   },
   {
    "duration": 3,
    "start_time": "2023-05-15T22:07:01.598Z"
   },
   {
    "duration": 18,
    "start_time": "2023-05-15T22:07:03.923Z"
   },
   {
    "duration": 3636,
    "start_time": "2023-05-15T22:07:19.144Z"
   },
   {
    "duration": 3170,
    "start_time": "2023-05-15T22:07:22.782Z"
   },
   {
    "duration": 18,
    "start_time": "2023-05-15T22:07:27.895Z"
   },
   {
    "duration": 34,
    "start_time": "2023-05-15T22:07:29.130Z"
   },
   {
    "duration": 22,
    "start_time": "2023-05-15T22:07:31.168Z"
   },
   {
    "duration": 11,
    "start_time": "2023-05-15T22:07:31.940Z"
   },
   {
    "duration": 4,
    "start_time": "2023-05-15T22:07:32.432Z"
   },
   {
    "duration": 3,
    "start_time": "2023-05-15T22:07:33.994Z"
   },
   {
    "duration": 4,
    "start_time": "2023-05-15T22:07:34.207Z"
   },
   {
    "duration": 521,
    "start_time": "2023-05-15T22:07:34.692Z"
   },
   {
    "duration": 5,
    "start_time": "2023-05-15T22:07:35.215Z"
   },
   {
    "duration": 61,
    "start_time": "2023-05-15T22:07:36.886Z"
   },
   {
    "duration": 4,
    "start_time": "2023-05-15T22:07:38.781Z"
   },
   {
    "duration": 20,
    "start_time": "2023-05-15T22:07:39.330Z"
   },
   {
    "duration": 3590,
    "start_time": "2023-05-15T22:07:54.231Z"
   },
   {
    "duration": 3106,
    "start_time": "2023-05-15T22:07:57.823Z"
   },
   {
    "duration": 15,
    "start_time": "2023-05-15T22:08:05.099Z"
   },
   {
    "duration": 4,
    "start_time": "2023-05-15T22:08:05.535Z"
   },
   {
    "duration": 4,
    "start_time": "2023-05-15T22:08:05.786Z"
   },
   {
    "duration": 4,
    "start_time": "2023-05-15T22:08:05.906Z"
   },
   {
    "duration": 474,
    "start_time": "2023-05-15T22:08:06.204Z"
   },
   {
    "duration": 4,
    "start_time": "2023-05-15T22:08:07.488Z"
   },
   {
    "duration": 68,
    "start_time": "2023-05-15T22:08:08.567Z"
   },
   {
    "duration": 4,
    "start_time": "2023-05-15T22:08:11.276Z"
   },
   {
    "duration": 21,
    "start_time": "2023-05-15T22:08:11.964Z"
   },
   {
    "duration": 46,
    "start_time": "2023-05-15T22:11:11.408Z"
   },
   {
    "duration": 3752,
    "start_time": "2023-05-15T22:11:17.150Z"
   },
   {
    "duration": 3110,
    "start_time": "2023-05-15T22:11:20.903Z"
   },
   {
    "duration": 16,
    "start_time": "2023-05-15T22:11:30.975Z"
   },
   {
    "duration": 4,
    "start_time": "2023-05-15T22:11:31.338Z"
   },
   {
    "duration": 3,
    "start_time": "2023-05-15T22:11:31.858Z"
   },
   {
    "duration": 3,
    "start_time": "2023-05-15T22:11:32.352Z"
   },
   {
    "duration": 512,
    "start_time": "2023-05-15T22:11:34.586Z"
   },
   {
    "duration": 4,
    "start_time": "2023-05-15T22:11:35.366Z"
   },
   {
    "duration": 80,
    "start_time": "2023-05-15T22:11:35.758Z"
   },
   {
    "duration": 22,
    "start_time": "2023-05-15T22:11:38.123Z"
   },
   {
    "duration": 21,
    "start_time": "2023-05-15T22:11:47.538Z"
   },
   {
    "duration": 18,
    "start_time": "2023-05-15T22:11:56.111Z"
   },
   {
    "duration": 17,
    "start_time": "2023-05-15T22:12:00.054Z"
   },
   {
    "duration": 15,
    "start_time": "2023-05-15T22:12:15.572Z"
   },
   {
    "duration": 4,
    "start_time": "2023-05-15T22:12:25.483Z"
   },
   {
    "duration": 5,
    "start_time": "2023-05-15T22:12:29.172Z"
   },
   {
    "duration": 3,
    "start_time": "2023-05-15T22:16:31.744Z"
   },
   {
    "duration": 51,
    "start_time": "2023-05-15T22:16:51.820Z"
   },
   {
    "duration": 4,
    "start_time": "2023-05-15T22:17:28.937Z"
   },
   {
    "duration": 261,
    "start_time": "2023-05-15T22:17:44.527Z"
   },
   {
    "duration": 3664,
    "start_time": "2023-05-15T22:18:37.504Z"
   },
   {
    "duration": 816,
    "start_time": "2023-05-15T22:18:41.170Z"
   },
   {
    "duration": 16,
    "start_time": "2023-05-15T22:18:45.821Z"
   },
   {
    "duration": 5,
    "start_time": "2023-05-15T22:18:46.239Z"
   },
   {
    "duration": 3,
    "start_time": "2023-05-15T22:18:46.937Z"
   },
   {
    "duration": 4,
    "start_time": "2023-05-15T22:18:47.485Z"
   },
   {
    "duration": 494,
    "start_time": "2023-05-15T22:18:47.979Z"
   },
   {
    "duration": 4,
    "start_time": "2023-05-15T22:18:48.478Z"
   },
   {
    "duration": 69,
    "start_time": "2023-05-15T22:18:50.162Z"
   },
   {
    "duration": 3,
    "start_time": "2023-05-15T22:18:52.079Z"
   },
   {
    "duration": 59,
    "start_time": "2023-05-15T22:18:52.537Z"
   },
   {
    "duration": 9,
    "start_time": "2023-05-15T22:18:57.259Z"
   },
   {
    "duration": 291,
    "start_time": "2023-05-15T22:19:09.511Z"
   },
   {
    "duration": 4,
    "start_time": "2023-05-15T22:19:13.003Z"
   },
   {
    "duration": 54,
    "start_time": "2023-05-15T22:20:01.332Z"
   },
   {
    "duration": 8,
    "start_time": "2023-05-15T22:20:09.222Z"
   },
   {
    "duration": 56,
    "start_time": "2023-05-15T22:20:16.547Z"
   },
   {
    "duration": 6,
    "start_time": "2023-05-15T22:20:18.304Z"
   },
   {
    "duration": 4,
    "start_time": "2023-05-15T22:22:02.283Z"
   },
   {
    "duration": 4,
    "start_time": "2023-05-15T22:22:15.236Z"
   },
   {
    "duration": 18,
    "start_time": "2023-05-15T22:22:58.464Z"
   },
   {
    "duration": 6,
    "start_time": "2023-05-15T22:23:12.368Z"
   },
   {
    "duration": 3521,
    "start_time": "2023-05-15T22:26:09.426Z"
   },
   {
    "duration": 48,
    "start_time": "2023-05-15T22:26:29.442Z"
   },
   {
    "duration": 6698,
    "start_time": "2023-05-15T22:26:36.598Z"
   },
   {
    "duration": 294,
    "start_time": "2023-05-15T22:27:24.366Z"
   },
   {
    "duration": 765,
    "start_time": "2023-05-15T22:27:27.514Z"
   },
   {
    "duration": 14,
    "start_time": "2023-05-15T22:27:29.812Z"
   },
   {
    "duration": 36,
    "start_time": "2023-05-15T22:27:30.370Z"
   },
   {
    "duration": 24,
    "start_time": "2023-05-15T22:27:31.813Z"
   },
   {
    "duration": 12,
    "start_time": "2023-05-15T22:27:33.904Z"
   },
   {
    "duration": 4,
    "start_time": "2023-05-15T22:27:34.220Z"
   },
   {
    "duration": 3,
    "start_time": "2023-05-15T22:27:35.634Z"
   },
   {
    "duration": 4,
    "start_time": "2023-05-15T22:27:35.848Z"
   },
   {
    "duration": 471,
    "start_time": "2023-05-15T22:27:36.498Z"
   },
   {
    "duration": 4,
    "start_time": "2023-05-15T22:27:37.270Z"
   },
   {
    "duration": 17,
    "start_time": "2023-05-15T22:29:51.879Z"
   },
   {
    "duration": 17,
    "start_time": "2023-05-15T22:30:15.013Z"
   },
   {
    "duration": 35,
    "start_time": "2023-05-15T22:30:21.893Z"
   },
   {
    "duration": 4,
    "start_time": "2023-05-15T22:30:29.467Z"
   },
   {
    "duration": 4,
    "start_time": "2023-05-15T22:30:36.902Z"
   },
   {
    "duration": 42,
    "start_time": "2023-05-15T22:31:24.630Z"
   },
   {
    "duration": 3,
    "start_time": "2023-05-15T22:31:25.030Z"
   },
   {
    "duration": 4,
    "start_time": "2023-05-15T22:31:25.318Z"
   },
   {
    "duration": 5,
    "start_time": "2023-05-15T22:31:43.183Z"
   },
   {
    "duration": 8,
    "start_time": "2023-05-15T22:33:28.982Z"
   },
   {
    "duration": 4,
    "start_time": "2023-05-15T22:35:32.463Z"
   },
   {
    "duration": 4,
    "start_time": "2023-05-15T22:35:32.621Z"
   },
   {
    "duration": 5,
    "start_time": "2023-05-15T22:35:32.787Z"
   },
   {
    "duration": 2,
    "start_time": "2023-05-15T22:35:36.606Z"
   },
   {
    "duration": 3,
    "start_time": "2023-05-15T22:35:37.034Z"
   },
   {
    "duration": 591,
    "start_time": "2023-05-15T22:35:37.545Z"
   },
   {
    "duration": 4,
    "start_time": "2023-05-15T22:35:38.269Z"
   },
   {
    "duration": 768166,
    "start_time": "2023-05-15T22:35:51.714Z"
   },
   {
    "duration": 5,
    "start_time": "2023-05-15T22:48:47.790Z"
   },
   {
    "duration": 3,
    "start_time": "2023-05-15T22:48:52.602Z"
   },
   {
    "duration": 3,
    "start_time": "2023-05-15T22:49:25.538Z"
   },
   {
    "duration": 3018,
    "start_time": "2023-05-15T22:49:49.595Z"
   },
   {
    "duration": 3171,
    "start_time": "2023-05-15T22:50:05.371Z"
   },
   {
    "duration": 4,
    "start_time": "2023-05-15T22:50:15.215Z"
   },
   {
    "duration": 25,
    "start_time": "2023-05-15T22:52:17.009Z"
   },
   {
    "duration": 5,
    "start_time": "2023-05-15T22:52:20.095Z"
   },
   {
    "duration": 3666,
    "start_time": "2023-05-15T23:01:59.687Z"
   },
   {
    "duration": 3114,
    "start_time": "2023-05-15T23:02:07.716Z"
   },
   {
    "duration": 15,
    "start_time": "2023-05-15T23:02:10.833Z"
   },
   {
    "duration": 38,
    "start_time": "2023-05-15T23:02:10.849Z"
   },
   {
    "duration": 25,
    "start_time": "2023-05-15T23:02:13.492Z"
   },
   {
    "duration": 6,
    "start_time": "2023-05-15T23:02:15.500Z"
   },
   {
    "duration": 11,
    "start_time": "2023-05-15T23:02:22.170Z"
   },
   {
    "duration": 4,
    "start_time": "2023-05-15T23:02:22.738Z"
   },
   {
    "duration": 40,
    "start_time": "2023-05-15T23:02:39.433Z"
   },
   {
    "duration": 3,
    "start_time": "2023-05-15T23:02:40.578Z"
   },
   {
    "duration": 4,
    "start_time": "2023-05-15T23:02:40.802Z"
   },
   {
    "duration": 471,
    "start_time": "2023-05-15T23:02:43.914Z"
   },
   {
    "duration": 4,
    "start_time": "2023-05-15T23:02:45.800Z"
   },
   {
    "duration": 3,
    "start_time": "2023-05-15T23:04:28.282Z"
   },
   {
    "duration": 59382,
    "start_time": "2023-05-15T23:05:09.825Z"
   },
   {
    "duration": 21,
    "start_time": "2023-05-15T23:06:29.298Z"
   },
   {
    "duration": 4,
    "start_time": "2023-05-15T23:06:34.071Z"
   },
   {
    "duration": 9411,
    "start_time": "2023-05-15T23:25:14.571Z"
   },
   {
    "duration": 3848,
    "start_time": "2023-05-15T23:25:23.985Z"
   },
   {
    "duration": 835,
    "start_time": "2023-05-15T23:25:31.123Z"
   },
   {
    "duration": 14,
    "start_time": "2023-05-15T23:25:42.379Z"
   },
   {
    "duration": 32,
    "start_time": "2023-05-15T23:25:43.365Z"
   },
   {
    "duration": 22,
    "start_time": "2023-05-15T23:25:45.391Z"
   },
   {
    "duration": 6,
    "start_time": "2023-05-15T23:26:11.817Z"
   },
   {
    "duration": 12,
    "start_time": "2023-05-15T23:26:13.997Z"
   },
   {
    "duration": 4,
    "start_time": "2023-05-15T23:26:14.647Z"
   },
   {
    "duration": 38,
    "start_time": "2023-05-15T23:26:16.719Z"
   },
   {
    "duration": 3,
    "start_time": "2023-05-15T23:26:18.481Z"
   },
   {
    "duration": 3,
    "start_time": "2023-05-15T23:26:18.790Z"
   },
   {
    "duration": 657,
    "start_time": "2023-05-15T23:26:32.377Z"
   },
   {
    "duration": 4,
    "start_time": "2023-05-15T23:26:33.036Z"
   },
   {
    "duration": 299,
    "start_time": "2023-05-15T23:27:12.553Z"
   },
   {
    "duration": 222,
    "start_time": "2023-05-15T23:27:18.666Z"
   },
   {
    "duration": 6,
    "start_time": "2023-05-15T23:27:27.470Z"
   },
   {
    "duration": 3,
    "start_time": "2023-05-15T23:27:47.136Z"
   },
   {
    "duration": 4,
    "start_time": "2023-05-15T23:28:03.951Z"
   },
   {
    "duration": 3,
    "start_time": "2023-05-15T23:28:04.491Z"
   },
   {
    "duration": 26,
    "start_time": "2023-05-15T23:28:53.692Z"
   },
   {
    "duration": 9734,
    "start_time": "2023-05-15T23:31:39.538Z"
   },
   {
    "duration": 3691,
    "start_time": "2023-05-15T23:31:55.226Z"
   },
   {
    "duration": 777,
    "start_time": "2023-05-15T23:31:59.601Z"
   },
   {
    "duration": 16,
    "start_time": "2023-05-15T23:32:00.380Z"
   },
   {
    "duration": 39,
    "start_time": "2023-05-15T23:32:01.349Z"
   },
   {
    "duration": 21,
    "start_time": "2023-05-15T23:32:03.413Z"
   },
   {
    "duration": 6,
    "start_time": "2023-05-15T23:32:04.277Z"
   },
   {
    "duration": 16,
    "start_time": "2023-05-15T23:32:05.777Z"
   },
   {
    "duration": 4,
    "start_time": "2023-05-15T23:32:07.223Z"
   },
   {
    "duration": 38,
    "start_time": "2023-05-15T23:32:07.827Z"
   },
   {
    "duration": 3,
    "start_time": "2023-05-15T23:32:08.385Z"
   },
   {
    "duration": 3,
    "start_time": "2023-05-15T23:32:08.617Z"
   },
   {
    "duration": 666,
    "start_time": "2023-05-15T23:32:09.175Z"
   },
   {
    "duration": 4,
    "start_time": "2023-05-15T23:32:09.844Z"
   },
   {
    "duration": 224,
    "start_time": "2023-05-15T23:32:10.937Z"
   },
   {
    "duration": 3,
    "start_time": "2023-05-15T23:32:12.426Z"
   },
   {
    "duration": 43,
    "start_time": "2023-05-15T23:32:13.067Z"
   },
   {
    "duration": 3,
    "start_time": "2023-05-15T23:32:20.894Z"
   },
   {
    "duration": 948,
    "start_time": "2023-05-15T23:32:48.146Z"
   },
   {
    "duration": 700,
    "start_time": "2023-05-15T23:32:54.440Z"
   },
   {
    "duration": 5,
    "start_time": "2023-05-15T23:33:01.428Z"
   },
   {
    "duration": 35,
    "start_time": "2023-05-15T23:33:44.395Z"
   },
   {
    "duration": 4,
    "start_time": "2023-05-15T23:33:55.397Z"
   },
   {
    "duration": 5,
    "start_time": "2023-05-15T23:34:11.314Z"
   },
   {
    "duration": 728,
    "start_time": "2023-05-15T23:34:16.882Z"
   },
   {
    "duration": 4,
    "start_time": "2023-05-15T23:34:21.964Z"
   },
   {
    "duration": 3,
    "start_time": "2023-05-15T23:35:01.959Z"
   },
   {
    "duration": 3,
    "start_time": "2023-05-15T23:36:40.019Z"
   },
   {
    "duration": 3866,
    "start_time": "2023-05-16T00:02:17.412Z"
   },
   {
    "duration": 760,
    "start_time": "2023-05-16T00:02:27.558Z"
   },
   {
    "duration": 15,
    "start_time": "2023-05-16T00:02:28.320Z"
   },
   {
    "duration": 33,
    "start_time": "2023-05-16T00:02:29.224Z"
   },
   {
    "duration": 23,
    "start_time": "2023-05-16T00:02:30.033Z"
   },
   {
    "duration": 6,
    "start_time": "2023-05-16T00:02:30.692Z"
   },
   {
    "duration": 12,
    "start_time": "2023-05-16T00:02:32.906Z"
   },
   {
    "duration": 4,
    "start_time": "2023-05-16T00:02:33.240Z"
   },
   {
    "duration": 39,
    "start_time": "2023-05-16T00:02:34.356Z"
   },
   {
    "duration": 3,
    "start_time": "2023-05-16T00:02:35.396Z"
   },
   {
    "duration": 317,
    "start_time": "2023-05-16T00:02:42.774Z"
   },
   {
    "duration": 3,
    "start_time": "2023-05-16T00:02:46.621Z"
   },
   {
    "duration": 650,
    "start_time": "2023-05-16T00:02:48.790Z"
   },
   {
    "duration": 4,
    "start_time": "2023-05-16T00:02:49.468Z"
   },
   {
    "duration": 140,
    "start_time": "2023-05-16T00:02:50.946Z"
   },
   {
    "duration": 3,
    "start_time": "2023-05-16T00:02:51.756Z"
   },
   {
    "duration": 3,
    "start_time": "2023-05-16T00:02:54.438Z"
   },
   {
    "duration": 3,
    "start_time": "2023-05-16T00:02:55.804Z"
   },
   {
    "duration": 917364,
    "start_time": "2023-05-16T00:02:57.952Z"
   },
   {
    "duration": 257851,
    "start_time": "2023-05-16T00:21:52.078Z"
   },
   {
    "duration": 4,
    "start_time": "2023-05-16T00:28:47.018Z"
   },
   {
    "duration": 2,
    "start_time": "2023-05-16T00:29:24.509Z"
   },
   {
    "duration": 14,
    "start_time": "2023-05-16T00:29:44.595Z"
   },
   {
    "duration": 9626,
    "start_time": "2023-05-16T00:34:04.953Z"
   },
   {
    "duration": 3896,
    "start_time": "2023-05-16T00:34:14.582Z"
   },
   {
    "duration": 810,
    "start_time": "2023-05-16T00:34:18.479Z"
   },
   {
    "duration": 15,
    "start_time": "2023-05-16T00:34:19.292Z"
   },
   {
    "duration": 34,
    "start_time": "2023-05-16T00:34:19.308Z"
   },
   {
    "duration": 45,
    "start_time": "2023-05-16T00:34:19.344Z"
   },
   {
    "duration": 6,
    "start_time": "2023-05-16T00:34:19.391Z"
   },
   {
    "duration": 12,
    "start_time": "2023-05-16T00:34:19.398Z"
   },
   {
    "duration": 9,
    "start_time": "2023-05-16T00:34:19.411Z"
   },
   {
    "duration": 61,
    "start_time": "2023-05-16T00:34:19.423Z"
   },
   {
    "duration": 3,
    "start_time": "2023-05-16T00:34:19.486Z"
   },
   {
    "duration": 6,
    "start_time": "2023-05-16T00:34:19.491Z"
   },
   {
    "duration": 659,
    "start_time": "2023-05-16T00:34:19.499Z"
   },
   {
    "duration": 5,
    "start_time": "2023-05-16T00:34:20.160Z"
   },
   {
    "duration": 230,
    "start_time": "2023-05-16T00:34:20.167Z"
   },
   {
    "duration": 4,
    "start_time": "2023-05-16T00:34:20.400Z"
   },
   {
    "duration": 4,
    "start_time": "2023-05-16T00:34:20.406Z"
   },
   {
    "duration": 6,
    "start_time": "2023-05-16T00:34:20.412Z"
   },
   {
    "duration": 837442,
    "start_time": "2023-05-16T00:34:20.420Z"
   },
   {
    "duration": 260550,
    "start_time": "2023-05-16T00:48:17.864Z"
   },
   {
    "duration": 14,
    "start_time": "2023-05-16T00:52:38.415Z"
   },
   {
    "duration": 9750,
    "start_time": "2023-05-16T00:58:14.848Z"
   },
   {
    "duration": 3721,
    "start_time": "2023-05-16T00:58:24.601Z"
   },
   {
    "duration": 765,
    "start_time": "2023-05-16T00:58:28.324Z"
   },
   {
    "duration": 17,
    "start_time": "2023-05-16T00:58:29.091Z"
   },
   {
    "duration": 36,
    "start_time": "2023-05-16T00:58:29.110Z"
   },
   {
    "duration": 44,
    "start_time": "2023-05-16T00:58:29.148Z"
   },
   {
    "duration": 7,
    "start_time": "2023-05-16T00:58:29.194Z"
   },
   {
    "duration": 12,
    "start_time": "2023-05-16T00:58:29.202Z"
   },
   {
    "duration": 5,
    "start_time": "2023-05-16T00:58:29.216Z"
   },
   {
    "duration": 67,
    "start_time": "2023-05-16T00:58:29.223Z"
   },
   {
    "duration": 3,
    "start_time": "2023-05-16T00:58:29.291Z"
   },
   {
    "duration": 5,
    "start_time": "2023-05-16T00:58:29.295Z"
   },
   {
    "duration": 676,
    "start_time": "2023-05-16T00:58:29.302Z"
   },
   {
    "duration": 4,
    "start_time": "2023-05-16T00:58:29.979Z"
   },
   {
    "duration": 230,
    "start_time": "2023-05-16T00:58:29.985Z"
   },
   {
    "duration": 3,
    "start_time": "2023-05-16T00:58:30.217Z"
   },
   {
    "duration": 18,
    "start_time": "2023-05-16T00:58:30.222Z"
   },
   {
    "duration": 1046639,
    "start_time": "2023-05-16T00:58:30.242Z"
   },
   {
    "duration": 4,
    "start_time": "2023-05-16T01:15:56.883Z"
   },
   {
    "duration": 4,
    "start_time": "2023-05-16T01:16:01.300Z"
   },
   {
    "duration": 46367,
    "start_time": "2023-05-16T01:16:21.191Z"
   },
   {
    "duration": 337,
    "start_time": "2023-05-16T01:17:26.843Z"
   },
   {
    "duration": 19,
    "start_time": "2023-05-16T01:17:31.444Z"
   },
   {
    "duration": 13,
    "start_time": "2023-05-16T01:17:32.325Z"
   },
   {
    "duration": 3,
    "start_time": "2023-05-16T01:17:43.040Z"
   },
   {
    "duration": 48180,
    "start_time": "2023-05-16T01:17:43.552Z"
   },
   {
    "duration": 18,
    "start_time": "2023-05-16T01:18:43.956Z"
   },
   {
    "duration": 14,
    "start_time": "2023-05-16T01:18:44.765Z"
   },
   {
    "duration": 3,
    "start_time": "2023-05-16T01:18:59.942Z"
   },
   {
    "duration": 46186,
    "start_time": "2023-05-16T01:19:01.820Z"
   },
   {
    "duration": 20,
    "start_time": "2023-05-16T01:19:58.888Z"
   },
   {
    "duration": 13,
    "start_time": "2023-05-16T01:19:59.222Z"
   },
   {
    "duration": 2,
    "start_time": "2023-05-16T01:20:15.374Z"
   },
   {
    "duration": 46000,
    "start_time": "2023-05-16T01:20:15.820Z"
   },
   {
    "duration": 19,
    "start_time": "2023-05-16T01:21:13.024Z"
   },
   {
    "duration": 15,
    "start_time": "2023-05-16T01:21:13.340Z"
   },
   {
    "duration": 3,
    "start_time": "2023-05-16T01:21:48.262Z"
   },
   {
    "duration": 460662,
    "start_time": "2023-05-16T01:21:48.855Z"
   },
   {
    "duration": 19,
    "start_time": "2023-05-16T01:30:17.182Z"
   },
   {
    "duration": 13,
    "start_time": "2023-05-16T01:30:17.757Z"
   },
   {
    "duration": 4,
    "start_time": "2023-05-16T01:35:01.412Z"
   },
   {
    "duration": 9516,
    "start_time": "2023-05-16T01:41:32.158Z"
   },
   {
    "duration": 3765,
    "start_time": "2023-05-16T01:41:41.676Z"
   },
   {
    "duration": 821,
    "start_time": "2023-05-16T01:41:45.443Z"
   },
   {
    "duration": 20,
    "start_time": "2023-05-16T01:41:46.266Z"
   },
   {
    "duration": 32,
    "start_time": "2023-05-16T01:41:46.289Z"
   },
   {
    "duration": 23,
    "start_time": "2023-05-16T01:41:46.323Z"
   },
   {
    "duration": 31,
    "start_time": "2023-05-16T01:41:46.348Z"
   },
   {
    "duration": 13,
    "start_time": "2023-05-16T01:41:46.381Z"
   },
   {
    "duration": 4,
    "start_time": "2023-05-16T01:41:46.396Z"
   },
   {
    "duration": 39,
    "start_time": "2023-05-16T01:41:46.401Z"
   },
   {
    "duration": 3,
    "start_time": "2023-05-16T01:41:46.442Z"
   },
   {
    "duration": 32,
    "start_time": "2023-05-16T01:41:46.447Z"
   },
   {
    "duration": 642,
    "start_time": "2023-05-16T01:41:46.481Z"
   },
   {
    "duration": 4,
    "start_time": "2023-05-16T01:41:47.125Z"
   },
   {
    "duration": 223,
    "start_time": "2023-05-16T01:41:47.130Z"
   },
   {
    "duration": 3,
    "start_time": "2023-05-16T01:41:47.355Z"
   },
   {
    "duration": 6,
    "start_time": "2023-05-16T01:41:47.360Z"
   },
   {
    "duration": 1036129,
    "start_time": "2023-05-16T01:41:47.368Z"
   },
   {
    "duration": 3,
    "start_time": "2023-05-16T01:59:13.194Z"
   },
   {
    "duration": 3,
    "start_time": "2023-05-16T01:59:23.006Z"
   },
   {
    "duration": 50,
    "start_time": "2025-01-11T22:10:58.842Z"
   }
  ],
  "kernelspec": {
   "display_name": "Python 3 (ipykernel)",
   "language": "python",
   "name": "python3"
  },
  "language_info": {
   "codemirror_mode": {
    "name": "ipython",
    "version": 3
   },
   "file_extension": ".py",
   "mimetype": "text/x-python",
   "name": "python",
   "nbconvert_exporter": "python",
   "pygments_lexer": "ipython3",
   "version": "3.9.21"
  },
  "toc": {
   "base_numbering": 1,
   "nav_menu": {},
   "number_sections": true,
   "sideBar": true,
   "skip_h1_title": true,
   "title_cell": "Содержание",
   "title_sidebar": "Contents",
   "toc_cell": true,
   "toc_position": {
    "height": "calc(100% - 180px)",
    "left": "10px",
    "top": "150px",
    "width": "302.391px"
   },
   "toc_section_display": true,
   "toc_window_display": false
  },
  "varInspector": {
   "cols": {
    "lenName": 16,
    "lenType": 16,
    "lenVar": 40
   },
   "kernels_config": {
    "python": {
     "delete_cmd_postfix": "",
     "delete_cmd_prefix": "del ",
     "library": "var_list.py",
     "varRefreshCmd": "print(var_dic_list())"
    },
    "r": {
     "delete_cmd_postfix": ") ",
     "delete_cmd_prefix": "rm(",
     "library": "var_list.r",
     "varRefreshCmd": "cat(var_dic_list()) "
    }
   },
   "types_to_exclude": [
    "module",
    "function",
    "builtin_function_or_method",
    "instance",
    "_Feature"
   ],
   "window_display": false
  }
 },
 "nbformat": 4,
 "nbformat_minor": 4
}
